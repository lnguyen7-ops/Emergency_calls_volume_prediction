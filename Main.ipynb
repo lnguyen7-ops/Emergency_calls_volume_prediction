{
 "cells": [
  {
   "cell_type": "code",
   "execution_count": 1,
   "metadata": {},
   "outputs": [],
   "source": [
    "import pandas as pd\n",
    "import numpy as np\n",
    "import matplotlib.pyplot as plt\n",
    "import seaborn as sns\n",
    "\n",
    "# package use to convert string to other datatype e.g. list, dict, ...\n",
    "import ast\n",
    "# Packages for generating polygon\n",
    "from shapely.geometry import Point\n",
    "from shapely.geometry.polygon import Polygon\n",
    "\n",
    "import warnings\n",
    "warnings.filterwarnings(\"ignore\")"
   ]
  },
  {
   "cell_type": "markdown",
   "metadata": {},
   "source": [
    "<hr style=\"border: 0.5px dashed;\">\n",
    "<h2>Neighborhoods object</h2>\n",
    "<p>\n",
    "    Note that FID of 174 and 205 have the same name \"Oak Grove\". Therefore, need to update 911 calls dataframe with FID labels instead of using neighborhood name.\n",
    "</p>"
   ]
  },
  {
   "cell_type": "code",
   "execution_count": 2,
   "metadata": {},
   "outputs": [],
   "source": [
    "# Import neighborhoods class\n",
    "import neighborhoods\n",
    "# Create Detroit neighborhood object\n",
    "detroit = neighborhoods.neighborhoods(\"data/neighborhoods.csv\")"
   ]
  },
  {
   "cell_type": "markdown",
   "metadata": {},
   "source": [
    "<hr>\n",
    "<h1 style=\"text-align:center;\">Data Preprocessing</h1>"
   ]
  },
  {
   "cell_type": "code",
   "execution_count": 3,
   "metadata": {},
   "outputs": [],
   "source": [
    "# Tweets and calls data preprocessing class\n",
    "import preprocessing\n",
    "# Create data processing object for Detroit\n",
    "data_proc = preprocessing.Preprocess(detroit)"
   ]
  },
  {
   "cell_type": "markdown",
   "metadata": {},
   "source": [
    "<hr style=\"border: 0.5px dashed;\">\n",
    "<h2>Detroit 911 calls in 2020</h2>\n",
    "<p> data source:\n",
    "https://data.detroitmi.gov/datasets/911-calls-for-service-last-30-days\n",
    "</p>"
   ]
  },
  {
   "cell_type": "markdown",
   "metadata": {},
   "source": [
    "<b>CLEANING NOTES:</b>\n",
    "<ul>\n",
    "    <li>Drop <code>incident_address</code>, <code>council_district</code>, and <code>block_id</code> since we are looking at neighborhood level</li>\n",
    "    <li>Drop <code>respondingunit</code> as not relevant for this study.</li>\n",
    "    <li>Drop calls INITIATED by officer since we are focusing on resident calls in this study</li>\n",
    "    <li>Remove calls outside of Detroit neighborhoods</li>\n",
    "    <li>Several columns string value have leading and trailing white spaces.</li>\n",
    "    <li><code>priority</code> has non-numerical value (p, and \" \"). Maybe should drop these.</li>\n",
    "    <li><code>call_timestamp</code> should be <code>datetime64</code>.</li>\n",
    "    <li>Remove calls there were hung-up, <code>category</code> = <code>HNGUP</code></li>\n",
    "</ul>\n",
    "<b>Category notes:</b>\n",
    "<ul>\n",
    "    <li><code>STRTSHFT</code>: Beginnin of shift change information. Initiated by officers</li>\n",
    "    <li><code>TRF STOP</code>: Calls about traffic stops, initiated by officers.</li>\n",
    "    <li><code>REMARKS</code>: Remarks by officers.</li>\n",
    "    <li><code>BUS BRD</code>: Bus boarding.</li>\n",
    "    <li><code>TOW</code>: About towing.</li>\n",
    "    <li><code>HNGUP</code>: Calls that were hung-up.</li>\n",
    "    <li><code>BITE1</code>: Animal bite</li>\n",
    "</ul> \n",
    "<p>\n",
    "    Not all categories were checked for relevant due to the large number of unique call categories (~ 192). The major categories were checked manually.\n",
    "</p>"
   ]
  },
  {
   "cell_type": "code",
   "execution_count": null,
   "metadata": {},
   "outputs": [],
   "source": [
    "# Process 911 calls files\n",
    "files = [f\"data/Detroit_911_calls/911_Calls_2020_file{i}.csv\" for i in range(2)]\n",
    "data_proc.process_calls(files)"
   ]
  },
  {
   "cell_type": "code",
   "execution_count": 4,
   "metadata": {},
   "outputs": [],
   "source": [
    "# Dataframe\n",
    "calls = pd.read_csv(\"data/Detroit_911_calls/911_Calls_2020_cleaned.csv\", thousands=\",\")\n",
    "calls[\"call_timestamp\"] = calls[\"call_timestamp\"].astype(\"datetime64\")\n",
    "calls.set_index(\"call_timestamp\", inplace=True)"
   ]
  },
  {
   "cell_type": "code",
   "execution_count": null,
   "metadata": {},
   "outputs": [],
   "source": [
    "calls[\"category\"].value_counts(normalize=True).head(20)*100"
   ]
  },
  {
   "cell_type": "markdown",
   "metadata": {},
   "source": [
    "<hr>\n",
    "<h1 style=\"text-align: center;\">EDA</h1>"
   ]
  },
  {
   "cell_type": "markdown",
   "metadata": {},
   "source": [
    "<hr style=\"border: 0.5px dashed;\">\n",
    "<h2>1. Detroit 911 calls in 2020</h2>"
   ]
  },
  {
   "cell_type": "code",
   "execution_count": null,
   "metadata": {},
   "outputs": [],
   "source": [
    "print(calls.shape)\n",
    "print(\"Percent of null values\")\n",
    "print(\"-\"*50)\n",
    "calls.isna().mean()*100"
   ]
  },
  {
   "cell_type": "markdown",
   "metadata": {},
   "source": [
    "<h3>1.1. Locations</h3>"
   ]
  },
  {
   "cell_type": "code",
   "execution_count": null,
   "metadata": {},
   "outputs": [],
   "source": [
    "# Intersection locations of calls\n",
    "plt.figure(figsize=(6,4))\n",
    "plt.scatter(x=calls.longitude, y=calls.latitude, s=0.5, alpha=0.1)\n",
    "plt.show()"
   ]
  },
  {
   "cell_type": "code",
   "execution_count": null,
   "metadata": {},
   "outputs": [],
   "source": [
    "# Neighborhoods in Detroit\n",
    "calls[\"FID_nhood\"].value_counts(normalize=True)*100"
   ]
  },
  {
   "cell_type": "markdown",
   "metadata": {},
   "source": [
    "<h3>1.2. Categories</h3>"
   ]
  },
  {
   "cell_type": "code",
   "execution_count": null,
   "metadata": {},
   "outputs": [],
   "source": [
    "# 911 call categories\n",
    "print(\"Categories: \", len(calls.category.unique()))\n",
    "categories = calls.category.value_counts(normalize=True)*100\n",
    "categories.head(10)"
   ]
  },
  {
   "cell_type": "markdown",
   "metadata": {},
   "source": [
    "<b>NOTES:</b> 207 neighborhoods involved."
   ]
  },
  {
   "cell_type": "markdown",
   "metadata": {},
   "source": [
    "<h3>1.3. Priority</h3>"
   ]
  },
  {
   "cell_type": "code",
   "execution_count": null,
   "metadata": {},
   "outputs": [],
   "source": [
    "# Average priority for each call categories\n",
    "priority = calls.groupby(by=\"category\").mean()[\"priority\"]\n",
    "# join with categories relative percentage\n",
    "df = pd.concat([categories, priority], axis=1)\n",
    "df.columns = [\"rel_pct\", \"avg_priority\"]\n",
    "df.head()"
   ]
  },
  {
   "cell_type": "code",
   "execution_count": null,
   "metadata": {},
   "outputs": [],
   "source": [
    "# Priority distribution\n",
    "data = calls[\"priority\"].value_counts(normalize=True)\n",
    "plt.figure(figsize=(5,3))\n",
    "plt.bar(x=data.index, height=data)\n",
    "plt.xlabel(\"Call priority\")\n",
    "plt.ylabel(\"Ratio\")\n",
    "plt.show()"
   ]
  },
  {
   "cell_type": "code",
   "execution_count": null,
   "metadata": {},
   "outputs": [],
   "source": [
    "# Average dispatch time for each priority\n",
    "plt.figure(figsize=(6,4))\n",
    "sns.scatterplot(data=calls.groupby(by=\"priority\").mean()[\"dispatchtime\"].reset_index(),\n",
    "                x=\"priority\", y=\"dispatchtime\")\n",
    "plt.show()"
   ]
  },
  {
   "cell_type": "markdown",
   "metadata": {},
   "source": [
    "<h3>1.4. Total response time</h3>"
   ]
  },
  {
   "cell_type": "code",
   "execution_count": null,
   "metadata": {},
   "outputs": [],
   "source": [
    "# totalresponsetime of call\n",
    "data = calls[calls[\"officerinitiated\"]==\"No\"]\n",
    "plt.figure(figsize=(5,3))\n",
    "sns.distplot(data.loc[(data.totalresponsetime<60), \"totalresponsetime\"], bins=30, kde=False)\n",
    "plt.title(\"NOT initiated by officers\")\n",
    "plt.ylabel(\"Frequency\")\n",
    "plt.show()"
   ]
  },
  {
   "cell_type": "markdown",
   "metadata": {},
   "source": [
    "<hr>\n",
    "<h1 style=\"text-align: center;\">Time series analysis</h1>"
   ]
  },
  {
   "cell_type": "markdown",
   "metadata": {},
   "source": [
    "<b>NEED TO EXPLAINED HOW METRIC WAS CHOOSEN</b>"
   ]
  },
  {
   "cell_type": "markdown",
   "metadata": {},
   "source": [
    "MAPE (Mean Absolute Percent Error) is NOT used because data has low values\n",
    "$$MAPE = \\left(\\frac{1}{n}\\sum\\frac{\\lvert Actual-Forecast\\rvert}{\\lvert Actual \\rvert}\\right)\\times100$$"
   ]
  },
  {
   "cell_type": "markdown",
   "metadata": {},
   "source": [
    "sMAPE (symmetric mean absolute percentage error) (min = 0%, max = 200%)\n",
    "$$sMAPE = \\left(\\frac{1}{n}\\sum\\frac{\\lvert Actual-Forecast\\rvert}{\\left(\\lvert Actual \\rvert + \\lvert Forecast \\rvert\\right)/2}\\right)\\times100$$"
   ]
  },
  {
   "cell_type": "markdown",
   "metadata": {},
   "source": [
    "sMAPE (modified) (min = 0%, max = 100%) (<b>BEING USED IN THIS STUDY</b>)\n",
    "$$sMAPE = \\left(\\frac{1}{n}\\sum\\frac{\\lvert Actual-Forecast\\rvert}{\\lvert Actual \\rvert + \\lvert Forecast \\rvert}\\right)\\times100$$"
   ]
  },
  {
   "cell_type": "code",
   "execution_count": 6,
   "metadata": {},
   "outputs": [],
   "source": [
    "from sklearn.model_selection import train_test_split\n",
    "\n",
    "# DATA object\n",
    "class TSData:\n",
    "    def __init__(self, data):\n",
    "        self.data = data\n",
    "        self.neighborhoods = list(self.data.columns)\n",
    "        # list of the neighborhoods FIDs\n",
    "        self.FIDs = [int(x.split(\",\")[0]) for x in self.neighborhoods]\n",
    "        self.remain = None\n",
    "        self.train = None\n",
    "        self.validation = None\n",
    "        self.test = None\n",
    "        # tabular data format\n",
    "        self.X = self.y = None #features and target\n",
    "        self.X_train = self.X_remain = self.X_validation = None\n",
    "        self.y_remain = self.y_train = self.y_validation = self.y_test = None\n",
    "        \n",
    "    # Train-validation-test split\n",
    "    def ts_split(self, test_size, val_size=0.2, plot=True, train_show=\"all\"):\n",
    "        '''\n",
    "        test_size: int or float\n",
    "                Validation & test size.\n",
    "        plot: bool\n",
    "                True ==> show plot of train, validation, test.\n",
    "        train_show: str or float\n",
    "                Portion of train set to show, \"all\" or ratio.\n",
    "        '''\n",
    "        self.remain, self.test = train_test_split(self.data, test_size=test_size, shuffle=False)\n",
    "        self.train, self.validation = train_test_split(self.remain, test_size=val_size, shuffle=False)\n",
    "        print(\"Train shape:\\t\", self.train.shape)\n",
    "        print(\"Validation shape:\\t\", self.validation.shape)\n",
    "        print(\"Test shape:\\t\", self.test.shape)\n",
    "        # plot out the data sets\n",
    "        if train_show==\"all\":\n",
    "            length = len(self.train)\n",
    "        else:\n",
    "            length = int(len(self.train)*train_show)\n",
    "        if plot:\n",
    "            plt.figure(figsize=(15,3))\n",
    "            plt.plot(self.train[-length:], marker=\".\", label=\"Train\")\n",
    "            plt.plot(self.validation, marker=\".\", label=\"Validation\")\n",
    "            plt.plot(self.test, marker=\".\", label=\"Test\")\n",
    "            plt.legend()\n",
    "            plt.show()\n",
    "            \n",
    "    # Data reduction into tabular format\n",
    "    def TsToTabular(self, lag):\n",
    "        # convert dataframe to numpy\n",
    "        source = self.data.to_numpy()\n",
    "        data = None\n",
    "        # sliding window\n",
    "        window = lag + 1 #lag+1 includes 1 target value\n",
    "        for right in range(window, len(self.data)+1): \n",
    "            # select window and also convert to 3-D array\n",
    "            temp = source[(right-window):right, :][np.newaxis,...]\n",
    "            if type(data) != np.ndarray: # if 1st time series\n",
    "                data = temp\n",
    "            else:\n",
    "                data = np.append(data, temp, axis=0)\n",
    "        self.X = data[:,:lag,:]\n",
    "        self.y = data[:,-1,:]\n",
    "        \n",
    "    # Train test split tabular format\n",
    "    def tabular_split(self, test_size, val_size=0.2):\n",
    "        '''\n",
    "        test_size: int or float\n",
    "                Validation & test size\n",
    "        '''\n",
    "        # shuffle set to False to NOT randomize the data picking.\n",
    "        self.X_remain, self.X_test, self.y_remain, self.y_test = train_test_split(self.X, self.y,\n",
    "                                                                  test_size=test_size,\n",
    "                                                                  shuffle=False)\n",
    "        self.X_train, self.X_validation, self.y_train, self.y_validation = train_test_split(self.X_remain, self.y_remain,\n",
    "                                                                               test_size=val_size,\n",
    "                                                                               shuffle=False)\n",
    "    \n",
    "    def get_FID_from_index(self, index):\n",
    "        '''\n",
    "        Get a neighborhood FID based on it's index in the dataframe.\n",
    "        -----------------------------------------------------------\n",
    "        return : int\n",
    "        '''\n",
    "        return int(self.neighborhoods[index].split(\",\")[0])\n",
    "    \n",
    "    def get_index_from_FID(self, fid):\n",
    "        '''\n",
    "        Get index of a neighborhood in the dataframe by the neighborhood's FID.\n",
    "        '''\n",
    "        return self.FIDs.index(fid)"
   ]
  },
  {
   "cell_type": "code",
   "execution_count": 5,
   "metadata": {},
   "outputs": [],
   "source": [
    "# ANALYSIS:\n",
    "# partail autocorrelation\n",
    "import statsmodels.api as sm\n",
    "from statsmodels.tsa.stattools import pacf\n",
    "from statsmodels.graphics.tsaplots import plot_pacf\n",
    "from statsmodels.api import tsa # time series analysis\n",
    "# ARIMA\n",
    "from statsmodels.tsa.statespace.sarimax import SARIMAX\n",
    "# Random forest\n",
    "from sklearn.ensemble import RandomForestRegressor\n",
    "from sklearn.metrics import mean_squared_error\n",
    "from math import sqrt\n",
    "# Plot\n",
    "import matplotlib.pyplot as plt\n",
    "# tensor math\n",
    "import tensorflow as tf\n",
    "# Keras network\n",
    "from tensorflow.keras.models import Sequential\n",
    "from tensorflow.keras.layers import Dense, Flatten, BatchNormalization, Dropout\n",
    "# For saving model\n",
    "import joblib\n",
    "\n",
    "# Calls priority data:\n",
    "# low value ==> high priority\n",
    "def get_att_level(nhoods, freq):\n",
    "    '''\n",
    "    Generate attention level data for each neighborhood and selected time interval.\n",
    "    ----------------------------------------------------\n",
    "    nhoods : list of neighborhood or \"all\"\n",
    "    freq : str. Time interval to groupby. e.g. \"3H\", \"1D\"\n",
    "    '''\n",
    "    count = data_proc.time_groupby(calls, \"incident_id\", \n",
    "                                  agg=\"count\", \n",
    "                                  nhoods=nhoods, \n",
    "                                  freq=freq)\n",
    "    avg_priority = data_proc.time_groupby(calls, \"priority\", \n",
    "                                          agg=\"avg\", \n",
    "                                          nhoods=nhoods, \n",
    "                                          freq=freq)\n",
    "    att_level = (count / (avg_priority+1)) + 1\n",
    "    # plus 1 at denominator to avoid division by zero.\n",
    "    # plus 1 again at the end to have min=1. This prevent MAPE error to be infinity\n",
    "    # when the actual value = 0.\n",
    "    return att_level\n",
    "\n",
    "# PARTIAL autocorrelation\n",
    "def get_pacf(data, max_lag, ret=False):\n",
    "    abs_pacfs = list(abs(pacf(data, nlags=max_lag)))\n",
    "    # find best lag (skip the lag=0)\n",
    "    best_lag = abs_pacfs.index(max(abs_pacfs[1:]))\n",
    "    print(\"Best lag:\\t\", best_lag)\n",
    "    fig, (ax) = plt.subplots(1,1, figsize=(15,3))\n",
    "    plot_pacf(data, lags=max_lag, ax=ax)\n",
    "    plt.xlabel('Lag')\n",
    "    plt.ylabel('Partial Autocorrelation')\n",
    "    plt.show()\n",
    "    return abs_pacfs if ret else None\n",
    "\n",
    "# DECOMPOSITION\n",
    "def decomposition(data, lag, show=\"all\"):\n",
    "    '''\n",
    "    show: str or float\n",
    "            Portion of data shown on plot.\"all\"=>show all.\n",
    "    '''\n",
    "    if show==\"all\":\n",
    "        length = len(data)\n",
    "    else:\n",
    "        length = int(len(data)*show)\n",
    "    decom = tsa.seasonal_decompose(data, model='additive', freq=lag)\n",
    "    fig, (ax0, ax1, ax2, ax3) = plt.subplots(4, 1, figsize=(15,12), sharex=True)\n",
    "    ax0.set_ylabel(\"Observed\")\n",
    "    decom.observed[-length:].plot(marker=\".\", ax=ax0)\n",
    "    ax1.set_ylabel(\"Trend\")\n",
    "    decom.trend[-length:].plot(ax=ax1)\n",
    "    ax2.set_ylabel(\"Seasonal\")\n",
    "    decom.seasonal[-length:].plot(ax=ax2)\n",
    "    ax3.set_ylabel(\"Residual\")\n",
    "    #plt.hlines(y=0, ax=ax3)\n",
    "    decom.resid[-length:].plot(marker=\".\", markersize=10, linewidth=0, ax=ax3)\n",
    "    plt.axhline(y=0, linestyle=\"--\", color=\"black\")\n",
    "    plt.tight_layout()\n",
    "    plt.show()\n",
    "\n",
    "\"\"\"\n",
    "# ARIMA model\n",
    "def arima_fit(data, p, d, q, trend=None):\n",
    "    arima = SARIMAX(data, order=(p,d,q), \n",
    "                    enforce_stationarity=False, \n",
    "                    enforce_invertibility=False,\n",
    "                    trend=trend)\n",
    "    arima_fit = arima.fit(maxiter=2000)\n",
    "    return arima_fit\n",
    "\"\"\"\n",
    "\n",
    "def arima_best(fh, train, val, p_range, d_range, q_range):\n",
    "    '''\n",
    "    fh : int. Forecast horizon. While validation set can be longer than\n",
    "            the forecast horizon, only the fh portion of the validation set\n",
    "            will be used to calculate score/loss, instead of forecasting the\n",
    "            entire length of the validation set. This is to keep consistent with\n",
    "            the actual use purpose of the model which will be to predict only\n",
    "            the selected forecast horizon.\n",
    "    p_range: tuple of 2\n",
    "    d_range: tuple of 2\n",
    "    q_range: tuple of 2\n",
    "    '''\n",
    "    # Hyperparameters tunning\n",
    "    print(\"Tuning p, d, q:\")\n",
    "    print(\"-\"*50)\n",
    "    # true values to be scored again\n",
    "    true = val[:fh]\n",
    "    min_loss = float(\"inf\")\n",
    "    best_model = None\n",
    "    for p in range(*p_range):\n",
    "        for d in range(*d_range):\n",
    "            for q in range(*q_range):\n",
    "                model = SARIMAX(train, order=(p,d,q), \n",
    "                        enforce_stationarity=False, \n",
    "                        enforce_invertibility=False,\n",
    "                        trend=None).fit(maxiter=1000)\n",
    "                # make prediction\n",
    "                predictions = model.forecast(fh)\n",
    "                loss = mean_squared_error(true, predictions)\n",
    "                #loss = sMAPE(val, predictions)\n",
    "                if loss < min_loss:\n",
    "                    min_loss = loss\n",
    "                    best_model = model\n",
    "                    best_p = p\n",
    "                    best_d = d\n",
    "                    best_q = q\n",
    "                    print(f\"{p}, {d}, {q}: Validation MSE \", round(min_loss, 4), end=\"\\r\")\n",
    "    print(\"-\"*50)\n",
    "    #return (best_p, best_d, best_q)\n",
    "    return best_model\n",
    "    \n",
    "\"\"\"\n",
    "def arima_forecast(arima, test, plot=True, ret_pred=False):\n",
    "    '''\n",
    "    arima: ARIMA model\n",
    "    test: ts-data set\n",
    "    '''\n",
    "    # make prediction\n",
    "    predictions = arima.forecast(steps=len(test))\n",
    "    print(\"Test sMAPE: \", round(sMAPE(test, predictions), 2))\n",
    "    if plot:\n",
    "        # PLOT the fit & residual\n",
    "        plt.subplots(2,1, figsize=(8,5))\n",
    "        plt.subplot(2,1,1)\n",
    "        plt.plot(test, c=\"red\", label=\"test\", marker='o')\n",
    "        plt.plot(predictions, c=\"blue\", label=\"predict\", marker='o')\n",
    "        plt.legend()\n",
    "        plt.subplot(2,1,2)\n",
    "        plt.plot(predictions-test, label=\"residual\", marker=\"o\", linewidth=0)\n",
    "        plt.axhline(y=0, linestyle=\"--\", color=\"black\")\n",
    "        plt.tight_layout()\n",
    "        plt.show()\n",
    "    return predictions if ret_pred else None\n",
    "\"\"\"\n",
    "\n",
    "def rand_forest_reg_best(X_train, y_train, X_test, y_test, max_n_estimator, max_depth, fh=None):\n",
    "    '''\n",
    "    Return model with best tuned hyperparameter\n",
    "    '''\n",
    "    n_estimators = [50*i for i in range(1, int(max_n_estimator/50))]\n",
    "    depths = [i for i in range(1,max_depth,2)]\n",
    "    min_loss = float(\"inf\")\n",
    "    rfr_best = None # best model\n",
    "    for n in n_estimators:\n",
    "        for depth in depths:\n",
    "            rfr = RandomForestRegressor(n_estimators=n, \n",
    "                                        max_depth=depth, \n",
    "                                        n_jobs=-1, \n",
    "                                        verbose=0,\n",
    "                                        random_state=1).fit(X_train, y_train)\n",
    "            # use only small portion of the test set to score due to the\n",
    "            # function model_evaluate() is quite slow.\n",
    "            loss = model_evaluate(model=rfr,\n",
    "                                  fh=fh,\n",
    "                                  X_test=X_test[:fh],\n",
    "                                  y_test=y_test[:fh],\n",
    "                                  metric=MAPE,\n",
    "                                  input_3d=False)\n",
    "            \n",
    "            # Note that evaluate loss using the model_evaluate function appears to\n",
    "            # make more sense as the function uses recursive_forecasting. However,\n",
    "            # recursive_forcasting take some time to run and hence, I will use\n",
    "            # the native predict method instead.\n",
    "            #loss = MAPE(y_test, rfr.predict(X_test))\n",
    "            if loss < min_loss:\n",
    "                min_loss = loss\n",
    "                print(f\"{n}, {depth}, MAPE: \", round(loss, 4), end=\"\\r\")\n",
    "                rfr_best = rfr\n",
    "    return rfr_best\n",
    "\n",
    "def build_dnn(num_hidden_layers, nodes_per_hidden, num_output_nodes, input_shape, flatten=False):\n",
    "    model = Sequential()\n",
    "    if flatten:\n",
    "        model.add(Flatten())\n",
    "        # hidden layer 1\n",
    "        model.add(Dense(nodes_per_hidden, activation=\"relu\"))\n",
    "        model.add(Dropout(0.2))\n",
    "        model.add(BatchNormalization())\n",
    "    else:\n",
    "        # hidden layer 1\n",
    "        model.add(Dense(nodes_per_hidden, activation=\"relu\", input_shape=input_shape))\n",
    "        model.add(Dropout(0.2))\n",
    "        model.add(BatchNormalization())\n",
    "    for i in range(num_hidden_layers-1):\n",
    "        model.add(Dense(nodes_per_hidden, activation=\"relu\"))\n",
    "        model.add(Dropout(0.2))\n",
    "        model.add(BatchNormalization())\n",
    "    # Output layer\n",
    "    # Use relu because don't want to have negative(-) result.\n",
    "    model.add(Dense(num_output_nodes, activation=\"relu\"))\n",
    "    return model\n",
    "    \n",
    "def dense_nn_best(X_train, y_train, X_val, y_val, max_hidden_layers=4, nodes_per_hidden=500, output_nodes=1, flatten=False):\n",
    "    dnn_best = dnn_history = None\n",
    "    min_loss = float(\"inf\")\n",
    "    input_shape = X_train.shape[1:]\n",
    "    # Tune number of hidden layer\n",
    "    for i in range(2, max_hidden_layers+1):\n",
    "        # build dnn model.\n",
    "        dnn = build_dnn(num_hidden_layers=i,\n",
    "                        nodes_per_hidden=nodes_per_hidden,\n",
    "                        num_output_nodes=output_nodes,\n",
    "                        input_shape=input_shape,\n",
    "                        flatten=flatten)\n",
    "        # Compile the model\n",
    "        dnn.compile(loss=\"mse\", optimizer=\"adam\")\n",
    "        # Fit the model\n",
    "        history = dnn.fit(X_train, y_train, epochs=50, verbose=0)\n",
    "        # evaluate the model\n",
    "        loss = model_evaluate(model=dnn,\n",
    "                              fh=fh,\n",
    "                              X_test=X_val,\n",
    "                              y_test=y_val,\n",
    "                              metric=MAPE,\n",
    "                              input_3d=False)\n",
    "        if loss < min_loss:\n",
    "            min_loss = loss\n",
    "            print(f\"Hidden layers: {i}, MAPE: \", round(loss, 4), end=\"\\r\")\n",
    "            dnn_best = dnn\n",
    "            dnn_history = dnn\n",
    "    return dnn_best, dnn_history\n",
    "\n",
    "def model_evaluate(model, fh, X_test, y_test, metric, input_3d=False):\n",
    "    '''\n",
    "    Return evaluation metrics of a model \n",
    "    **(CAN NOT APPLY TO ARIMA MODEL)** using recursive forecast \n",
    "    of several forecast horizon in the test set. The function use sliding\n",
    "    window technique (window width = fh) to make multiple loss evaluations \n",
    "    in the test set range. Then return the average of the losses at the end.\n",
    "    ------------------------------------------------------------\n",
    "    fh : int. Forecast horizon. Need to be EQUAL or LESS than the length of \n",
    "            the test set.\n",
    "    X_train : pd.Series or DataFrame\n",
    "    --------------------------------------------------------\n",
    "    '''\n",
    "    results = []\n",
    "    for i in range((X_test.shape[0]-fh)+1): # minimum of 1 iteration\n",
    "        true = y_test[i:(i+fh)] # setup true values\n",
    "        # predict values\n",
    "        pred = recursive_forecast(model=model, \n",
    "                                  X=X_test, \n",
    "                                  start=i, \n",
    "                                  fh=fh, \n",
    "                                  input_3d=input_3d)\n",
    "        # score/loss of the model\n",
    "        results.append(metric(true, pred))\n",
    "    return np.mean(results)\n",
    "\n",
    "# Loss metric\n",
    "def sMAPE_tensor(actual, pred):\n",
    "    '''\n",
    "    Symmetric Mean Absolute Percentage Error.\n",
    "    Range of return value (0 - inf).\n",
    "    Note the same operations can be written using numpy. However, Tensor\n",
    "    is being used here to make the function usable as a loss or metric function when\n",
    "    training models.\n",
    "    '''\n",
    "    loss = tf.reduce_mean(tf.abs(actual - pred)/(tf.abs(actual) + tf.abs(pred)))*100\n",
    "    return loss\n",
    "\n",
    "def sMAPE(actual, pred):\n",
    "    loss = np.mean(np.abs(actual - pred)/(np.abs(actual) + np.abs(pred)))*100\n",
    "    return loss\n",
    "\n",
    "def MAPE(actual, pred):\n",
    "    '''\n",
    "    Mean Absolute Percent Error.\n",
    "    '''\n",
    "    return np.mean(np.abs(actual - pred) / np.abs(actual)) * 100\n",
    "\n",
    "##################################################\n",
    "# predict method for tabular form\n",
    "def recursive_forecast(model, X, start, fh, input_3d=False):\n",
    "    '''\n",
    "    model: a fitted model\n",
    "    X: array\n",
    "    start: index (NOT time stamp)\n",
    "            Starting point of forecast. e.g. 0 = start at the beginning.\n",
    "    fh: int\n",
    "            foreast horizon\n",
    "    input_3d : bool. Whether or not the model's predict() method require 3d input data.\n",
    "    '''\n",
    "    pred = None\n",
    "    # point to start forecasting.\n",
    "    # Also add one more dimension in the front, due to requirement of input\n",
    "    # for model prediction.\n",
    "    point = X[start][np.newaxis,...]\n",
    "    # recursive forecasting\n",
    "    for i in range(fh):\n",
    "        temp = model.predict(point) \n",
    "        # note, some model predict return 1D array while some return 2D array.\n",
    "        if i < 1: # first prediction point\n",
    "            pred = temp\n",
    "        else:\n",
    "            pred = np.append(pred, temp, axis=0)\n",
    "        # update point to test with new prediction\n",
    "        if not input_3d: # if model uses 2-d input\n",
    "            point = np.append(point[:,1:], temp.reshape(1,-1), axis=1)\n",
    "        else: # if model requires 3-d input\n",
    "            point = np.append(point[:,1:,:], temp.reshape(1,1,-1), axis=1)\n",
    "    return pred\n",
    "\n",
    "# Plot\n",
    "def plot(data, labels):\n",
    "    '''\n",
    "    Make overlay plot of given data and labels.\n",
    "    ----------------------------------------\n",
    "    data: list of data sets to plot\n",
    "    labels: list of labels\n",
    "    '''\n",
    "    plt.figure(figsize=(10,3))\n",
    "    for i, dat in enumerate(data):\n",
    "        plt.plot(dat, label=labels[i], marker=\"o\")\n",
    "    plt.legend()\n",
    "    plt.show()"
   ]
  },
  {
   "cell_type": "markdown",
   "metadata": {},
   "source": [
    "<hr style=\"border: 0.5px dashed;\">\n",
    "<h2>2. Attention level</h2>\n",
    "<p>A neighborhood attention level is defined as:<p>"
   ]
  },
  {
   "cell_type": "markdown",
   "metadata": {},
   "source": [
    "$$Attention~level = \\frac{\\#~of~calls}{avg.~priority + 1}$$"
   ]
  },
  {
   "cell_type": "code",
   "execution_count": 7,
   "metadata": {},
   "outputs": [],
   "source": [
    "# selected neighborhood\n",
    "#nhoods = \"19,Warrendale\"\n",
    "nhoods = \"all\"\n",
    "# generate attention level data with 3-hour increments\n",
    "att_level = get_att_level(nhoods, freq=\"3H\")\n",
    "# create a master data object\n",
    "att_level = TSData(att_level)"
   ]
  },
  {
   "cell_type": "markdown",
   "metadata": {},
   "source": [
    "<b>Write function to get most propular lag of all neighborhoods</b>"
   ]
  },
  {
   "cell_type": "code",
   "execution_count": 15,
   "metadata": {},
   "outputs": [
    {
     "name": "stdout",
     "output_type": "stream",
     "text": [
      "Best lag:\t 8\n"
     ]
    },
    {
     "data": {
      "image/png": "[encoded data removed]",
      "text/plain": [
       "<Figure size 1080x216 with 1 Axes>"
      ]
     },
     "metadata": {
      "needs_background": "light"
     },
     "output_type": "display_data"
    },
    {
     "data": {
      "image/png": "[encoded data removed]",
      "text/plain": [
       "<Figure size 1080x864 with 4 Axes>"
      ]
     },
     "metadata": {
      "needs_background": "light"
     },
     "output_type": "display_data"
    }
   ],
   "source": [
    "################################################3\n",
    "# Inpsect 1 neighborhood\n",
    "index = 7 # neighborhood index\n",
    "# PARTIAL CORRELATION\n",
    "get_pacf(att_level.data.iloc[:,index], max_lag=10)\n",
    "# time series DECOMPOSITION\n",
    "decomposition(att_level.data.iloc[:,index], lag=8, show=0.1)"
   ]
  },
  {
   "cell_type": "markdown",
   "metadata": {},
   "source": [
    "<h4 style=\"text-align: center\"><b>Forecast horizon</b></h4>\n",
    "<p style=\"text-align: center\">Before continuing, it is import to define now the forecast horizon (fh) that the model is intended to be used. In this case, I plan to use the model to make a 1-day forecast. With the data being grouped by 3-hour intervals, <br><b>fh = 8</b><br> is equivalent to 1 day forecast.</p>"
   ]
  },
  {
   "cell_type": "code",
   "execution_count": 16,
   "metadata": {},
   "outputs": [
    {
     "name": "stdout",
     "output_type": "stream",
     "text": [
      "Train shape:\t (1814, 207)\n",
      "Validation shape:\t (202, 207)\n",
      "Test shape:\t (225, 207)\n"
     ]
    }
   ],
   "source": [
    "# ***FORECAST HORIZON***\n",
    "fh = 8 # 8 data points (i.e. 1 day) into the future\n",
    "#***********************************************\n",
    "# train-validation-test split\n",
    "att_level.ts_split(test_size=0.1, val_size=0.1, plot=False, train_show=0.05)\n",
    "# Convert to tabular\n",
    "att_level.TsToTabular(lag=8)\n",
    "# Train-test-split tabular format\n",
    "att_level.tabular_split(test_size=0.1, val_size=0.1)"
   ]
  },
  {
   "cell_type": "markdown",
   "metadata": {},
   "source": [
    "<h1> Explain clearly the choice of train-test-split and how forecast are made (need diagram).</h1>\n",
    "<img src=\"pictures/model_evaluation.jpg\" width=\"300\" class=\"center\">"
   ]
  },
  {
   "cell_type": "markdown",
   "metadata": {},
   "source": [
    "<h1><b>NEED TO ESTABLISH A BASELINE METRICS. e.g. a naive forecasting</b></h1>"
   ]
  },
  {
   "cell_type": "markdown",
   "metadata": {},
   "source": [
    "Simply forecast using the last value of the time series."
   ]
  },
  {
   "cell_type": "code",
   "execution_count": null,
   "metadata": {},
   "outputs": [],
   "source": [
    "# naive forecasting on validation set\n",
    "pred_valid = np.full((fh), att_level.train[-1])\n",
    "print(\"Naive validation sMAPE: \", sMAPE(pred_valid, att_level.validation))\n",
    "# naive forecasting on test set\n",
    "pred_test = np.full((fh), att_level.remain[-1])\n",
    "print(\"Naive test sMAPE: \", sMAPE(pred_test, att_level.test))"
   ]
  },
  {
   "cell_type": "markdown",
   "metadata": {},
   "source": [
    "<h3>1.2. SARIMAX model (univariate)</h3>"
   ]
  },
  {
   "cell_type": "code",
   "execution_count": null,
   "metadata": {
    "scrolled": true
   },
   "outputs": [],
   "source": [
    "# Find best model for each neighborhood.\n",
    "# (p,d,q) search range\n",
    "p_range = (8, 9) # only use 8 as shown best lag\n",
    "d_range = (1, 4)\n",
    "q_range = (1, 7)\n",
    "# loop through each neighborhoods\n",
    "num_nhoods = att_level.train.shape[-1]\n",
    "for i in range(1, num_nhoods):\n",
    "    print(f\"Neighborhood {i+1} of {num_nhoods}\")\n",
    "    # find best arima p,d,q hyper-parameters\n",
    "    arima = arima_best(fh=fh, \n",
    "                        train=att_level.train.iloc[:,i], \n",
    "                        val=att_level.validation.iloc[:,i],\n",
    "                        p_range=p_range,\n",
    "                        d_range=d_range,\n",
    "                        q_range=q_range)\n",
    "    # write the model to file with neighborhood FID in filename\n",
    "    fid = att_level.get_FID_from_index(i)\n",
    "    arima.save(f\"models/arima_FID{fid}.pickle\")"
   ]
  },
  {
   "cell_type": "code",
   "execution_count": null,
   "metadata": {},
   "outputs": [],
   "source": [
    "# MAKING PREDICTION\n",
    "# Load a model\n",
    "fid = \"90\" # load model for neighborhood FID=1\n",
    "arima = sm.load_pickle(f\"models/arima_FID{fid}.pickle\")\n",
    "pred = arima.forecast(steps=len(att_level.test.iloc[:,81]))\n",
    "print(\"Test sMAPE: \", round(sMAPE(att_level.test.iloc[:,81], pred), 2))"
   ]
  },
  {
   "cell_type": "code",
   "execution_count": null,
   "metadata": {},
   "outputs": [],
   "source": [
    "# PLOT the fit\n",
    "plt.figure(figsize=(8,3))\n",
    "plt.plot(att_level.test.iloc[:,81], c=\"red\", label=\"test\", marker='o')\n",
    "plt.plot(pred, c=\"blue\", label=\"predict\", marker='o')\n",
    "plt.legend()\n",
    "plt.show()"
   ]
  },
  {
   "cell_type": "markdown",
   "metadata": {},
   "source": [
    "<h3>1.3. RandomForrestRegressor (univariate)</h3>"
   ]
  },
  {
   "cell_type": "markdown",
   "metadata": {},
   "source": [
    "Note: Better models obtained when tuning using the <b>model_evaluation()</b> function with <b>MAPE</b> as the loss."
   ]
  },
  {
   "cell_type": "code",
   "execution_count": null,
   "metadata": {
    "scrolled": true
   },
   "outputs": [],
   "source": [
    "# Find best model for each neighborhood\n",
    "# set max_depth\n",
    "max_depth = int(np.sqrt(att_level.X_train.shape[0]))\n",
    "max_n_estimator = 400\n",
    "# loop through each neighborhoods\n",
    "num_nhoods = len(att_level.neighborhoods)\n",
    "for i in range(0, num_nhoods):\n",
    "    print(f\"Neighborhood {i+1} of {num_nhoods}\")\n",
    "    # find best random forest regressor hyper-parameters\n",
    "    rfr = rand_forest_reg_best(X_train=att_level.X_train[:,:,i],\n",
    "                                y_train=att_level.y_train[:,i],\n",
    "                                X_test=att_level.X_validation[:,:,i],\n",
    "                                y_test=att_level.y_validation[:,i],\n",
    "                                max_n_estimator=max_n_estimator,\n",
    "                                max_depth=max_depth,\n",
    "                               fh=fh)\n",
    "    # write the model to file with neighborhood FID in filename\n",
    "    fid = att_level.get_FID_from_index(i)\n",
    "    joblib.dump(rfr, f\"models/forest_FID{fid}.pickle\")"
   ]
  },
  {
   "cell_type": "code",
   "execution_count": null,
   "metadata": {},
   "outputs": [],
   "source": [
    "# MAKING PREDICTION\n",
    "# Load a model\n",
    "index = 0\n",
    "fid = att_level.get_FID_from_index(index) # load model for neighborhood FID=1\n",
    "rfr = joblib.load(f\"models/forest_FID{fid}.pickle\")\n",
    "# predict test\n",
    "start = 0 # start index\n",
    "y = att_level.y_test[start:(start+fh), index]\n",
    "pred = recursive_forecast(model=rfr,\n",
    "                          X=att_level.X_test[:,:,index], \n",
    "                          start=start, \n",
    "                          fh=fh,\n",
    "                          input_3d=False)\n",
    "print(\"MAPE: \", MAPE(pred, y))\n",
    "# plot\n",
    "plot(data=[y, pred],\n",
    "     labels=[\"test\", \"prediction\"])"
   ]
  },
  {
   "cell_type": "markdown",
   "metadata": {},
   "source": [
    "<h3>1.4. Dense Neural Network (univariate)</h3>"
   ]
  },
  {
   "cell_type": "code",
   "execution_count": null,
   "metadata": {},
   "outputs": [],
   "source": [
    "from tensorflow.keras.utils import plot_model"
   ]
  },
  {
   "cell_type": "code",
   "execution_count": null,
   "metadata": {},
   "outputs": [],
   "source": [
    "# Find a number of hidden layers for the models.\n",
    "# Using one neighborhood as example.\n",
    "# It is too time consuming to optimize number of hidden layers\n",
    "# for all 207 neighborhoods.\n",
    "index = 0 # choose neighborhood with index=0\n",
    "dnn, history = dense_nn_best(X_train=att_level.X_train[:,:,index], \n",
    "                             y_train=att_level.y_train[:,index],\n",
    "                             X_val=att_level.X_validation[:,:,index],\n",
    "                             y_val=att_level.y_validation[:,index],\n",
    "                             max_hidden_layers=6,\n",
    "                             nodes_per_hidden=500,\n",
    "                             output_nodes=1,\n",
    "                             flatten=False)"
   ]
  },
  {
   "cell_type": "code",
   "execution_count": null,
   "metadata": {},
   "outputs": [],
   "source": [
    "# Check for overfitting\n",
    "loss = pd.DataFrame.from_dict(history.history)\n",
    "loss[[\"loss\", \"val_loss\"]].plot(figsize=(10,4));\n",
    "loss[[\"sMAPE_tensor\", \"val_sMAPE_tensor\"]].plot(figsize=(10,4));"
   ]
  },
  {
   "cell_type": "markdown",
   "metadata": {},
   "source": [
    "Note: It appears that between 2-6 hidden layers, 3 hidden layers give the best result. The loss of validation set is about the same to that of train set, which indicates there is not overfitting. Therefore, network of 3 hidden layers will be used for all neighborhoods."
   ]
  },
  {
   "cell_type": "code",
   "execution_count": null,
   "metadata": {
    "scrolled": true
   },
   "outputs": [],
   "source": [
    "# BUILD MODEL FOR EACH NEIGHBORHOOD\n",
    "# fit a model to each neighborhood.\n",
    "for i in range(0, num_nhoods):\n",
    "    print(f\"Neighborhood {i+1} of {num_nhoods}\", end=\"\\r\")\n",
    "    input_shape= att_level.X_train[:,:,i].shape[1:]\n",
    "    dnn = build_dnn(num_hidden_layers=3,\n",
    "                    nodes_per_hidden=500,\n",
    "                    num_output_nodes=1,\n",
    "                    input_shape=input_shape, \n",
    "                    flatten=False) # univariate, no flatten needed\n",
    "    # Compile the model\n",
    "    dnn.compile(loss=\"mse\", optimizer=\"adam\")\n",
    "    # Fit the model\n",
    "    history = dnn.fit(att_level.X_train[:,:,i], \n",
    "                        att_level.y_train[:,i],  \n",
    "                        epochs=50,\n",
    "                        verbose=0)\n",
    "    # write the model to file with neighborhood FID in filename\n",
    "    fid = att_level.get_FID_from_index(i)\n",
    "    dnn.save(f\"models/dnn_uni_FID{fid}.h5\")"
   ]
  },
  {
   "cell_type": "code",
   "execution_count": null,
   "metadata": {},
   "outputs": [],
   "source": [
    "# MAKING PREDICTION\n",
    "# Load a model\n",
    "index = 0\n",
    "fid = att_level.get_FID_from_index(index) # load model for neighborhood FID=1\n",
    "dnn = \n",
    "# predict test\n",
    "pred = recursive_forecast(dnn, att_level.X_test[:,:,0], 0, fh, input_3d=False)\n",
    "true = att_level.y_test[:fh,0]\n",
    "print(MAPE(pred, true))\n",
    "plot(data=[pred, true], labels=[\"pred\", \"true\"])"
   ]
  },
  {
   "cell_type": "markdown",
   "metadata": {},
   "source": [
    "<h3>1.4. Dense Neural Network (Multivariate)</h3>"
   ]
  },
  {
   "cell_type": "markdown",
   "metadata": {},
   "source": [
    "<h3>1.4. Recurrent Neural Network</h3>"
   ]
  },
  {
   "cell_type": "code",
   "execution_count": null,
   "metadata": {},
   "outputs": [],
   "source": [
    "from tensorflow.keras.models import Sequential\n",
    "from tensorflow.keras.layers import Dense, Flatten, SimpleRNN, LSTM, BatchNormalization, Dropout\n",
    "from tensorflow.keras.utils import plot_model\n",
    "from tensorflow.keras.optimizers import SGD"
   ]
  },
  {
   "cell_type": "code",
   "execution_count": null,
   "metadata": {},
   "outputs": [],
   "source": [
    "num_nhoods = att_level.X.shape[-1]\n",
    "rnn = Sequential()\n",
    "'''\n",
    "# layer 1\n",
    "rnn.add(SimpleRNN(1024, return_sequences=True, input_shape=[None, 1]))\n",
    "rnn.add(Dropout(0.2))\n",
    "rnn.add(BatchNormalization())\n",
    "# layer 2\n",
    "rnn.add(SimpleRNN(612, return_sequences=True))\n",
    "rnn.add(Dropout(0.2))\n",
    "rnn.add(BatchNormalization())\n",
    "# layer 3\n",
    "rnn.add(SimpleRNN(306, return_sequences=True))\n",
    "rnn.add(Dropout(0.2))\n",
    "rnn.add(BatchNormalization())\n",
    "# layer 4\n",
    "rnn.add(SimpleRNN(32, return_sequences=True))\n",
    "rnn.add(Dropout(0.1))\n",
    "rnn.add(BatchNormalization())\n",
    "# layer 5\n",
    "rnn.add(SimpleRNN(1))\n",
    "'''\n",
    "# layer 1\n",
    "rnn.add(LSTM(1024, return_sequences=True, input_shape=[None, num_nhoods], activation=\"relu\"))\n",
    "rnn.add(Dropout(0.2))\n",
    "rnn.add(BatchNormalization())\n",
    "# layer 2\n",
    "rnn.add(LSTM(612, return_sequences=True, activation=\"relu\"))\n",
    "rnn.add(Dropout(0.1))\n",
    "rnn.add(BatchNormalization())\n",
    "# layer 2\n",
    "rnn.add(LSTM(153, activation=\"relu\"))\n",
    "rnn.add(Dropout(0.1))\n",
    "rnn.add(BatchNormalization())\n",
    "# layer 3\n",
    "rnn.add(Dense(num_nhoods, activation=\"relu\"))\n",
    "rnn.summary()"
   ]
  },
  {
   "cell_type": "code",
   "execution_count": null,
   "metadata": {
    "scrolled": true
   },
   "outputs": [],
   "source": [
    "sgd = SGD(lr=0.01, decay=0.0, momentum=0.0, nesterov=False, clipnorm=2.0)\n",
    "rnn.compile(\n",
    "    loss=\"mean_squared_error\",\n",
    "    optimizer=sgd\n",
    ")\n",
    "# Add one more axis to data\n",
    "#X = att_level.X_remain[..., np.newaxis]\n",
    "X = att_level.X_remain\n",
    "#y = att_level.y_remain.reshape(-1,1)\n",
    "y = att_level.y_remain\n",
    "history = rnn.fit(X, y, epochs=500)"
   ]
  },
  {
   "cell_type": "code",
   "execution_count": null,
   "metadata": {},
   "outputs": [],
   "source": [
    "loss = pd.DataFrame(history.history)\n",
    "loss.plot(marker=\"o\");"
   ]
  },
  {
   "cell_type": "code",
   "execution_count": null,
   "metadata": {},
   "outputs": [],
   "source": [
    "# SAVE THE MODEL THE LOSS\n",
    "rnn.save(\"models/rnn_multi_v1.h5\")\n",
    "loss.to_csv(\"models/rnn_multi_v1_loss.csv\", header=True)"
   ]
  },
  {
   "cell_type": "code",
   "execution_count": null,
   "metadata": {},
   "outputs": [],
   "source": [
    "# predict test\n",
    "data = att_level.test\n",
    "fh = len(data)\n",
    "pred = recursive_forecast(rnn, att_level.X, start=-fh, fh=fh, input_3d=True)\n",
    "# convert back to ts\n",
    "pred = pd.DataFrame(pred, index=data.index, columns=data.columns)\n",
    "print(sMAPE(pred, data))\n",
    "# plot\n",
    "plot(data=[att_level.remain.iloc[:,8][-50:], data.iloc[:,8], pred.iloc[:,8]],\n",
    "     labels=[\"remain\", \"test\", \"prediction\"])"
   ]
  },
  {
   "cell_type": "code",
   "execution_count": null,
   "metadata": {},
   "outputs": [],
   "source": [
    "sMAPE(pred.iloc[:,0], att_level.test.iloc[:,0])"
   ]
  },
  {
   "cell_type": "markdown",
   "metadata": {},
   "source": [
    "<hr>\n",
    "<h1 style=\"text-align: center;\">Attention level heatmap</h1>"
   ]
  },
  {
   "cell_type": "code",
   "execution_count": null,
   "metadata": {},
   "outputs": [],
   "source": [
    "import folium\n",
    "def detroit_heatmap(data, geo_json):\n",
    "    '''\n",
    "    data: dataframe\n",
    "            Data to be plot. Columns: FID: neighborhood id\n",
    "                                      data: data to be plot\n",
    "    '''\n",
    "    # link to geojson\n",
    "    lat = 42.365753\n",
    "    lng = -83.076760\n",
    "    detroit_map = folium.Map(location=[lat, lng], zoom_start=11)\n",
    "    detroit_map.choropleth(\n",
    "        geo_data = geo_json,\n",
    "        data = data,\n",
    "        columns = [\"FID\", \"att_level\"],\n",
    "        key_on = \"properties.FID\", # match geojson FID with data FID\n",
    "        threshold_scale = [0, 0.4, 0.8, 1.2, 1.7, 2.1, 2.5],\n",
    "        fill_color='YlOrRd', \n",
    "        fill_opacity=0.7, \n",
    "        line_opacity=0.2,\n",
    "        reset=True,\n",
    "        legend_name=\"Attention level\"\n",
    "    )\n",
    "    #title_html = '''\n",
    "    #             <h3 align=\"center\" style=\"font-size:20px\"><b>Your map title</b></h3>\n",
    "    #             '''\n",
    "    #detroit_map.get_root().html.add_child(folium.Element(title_html))\n",
    "    display(detroit_map)"
   ]
  },
  {
   "cell_type": "code",
   "execution_count": null,
   "metadata": {},
   "outputs": [],
   "source": [
    "# read in Detroit neighborhood geojson.\n",
    "import json\n",
    "with open(\"data/detroit_geo.json\") as json_file:\n",
    "    detroit_geo = json.load(json_file)"
   ]
  },
  {
   "cell_type": "code",
   "execution_count": null,
   "metadata": {},
   "outputs": [],
   "source": [
    "#data = att_level.data.iloc[-9:-1,:]\n",
    "data = pred\n",
    "for i in range(data.shape[0]):\n",
    "    df = pd.DataFrame(data.iloc[i,:]).reset_index()\n",
    "    df.columns = [\"FID_name\",\"att_level\"]\n",
    "    df[\"FID\"] = df[\"FID_name\"].apply(lambda x: x.split(\",\")[0])\n",
    "    df[\"FID\"] = df[\"FID\"].astype(\"int32\")\n",
    "    detroit_heatmap(df, detroit_geo)"
   ]
  },
  {
   "cell_type": "markdown",
   "metadata": {},
   "source": [
    "<hr>\n",
    "<h1 style=\"text-align: center;\">Using different loss metrics</h1>"
   ]
  },
  {
   "cell_type": "markdown",
   "metadata": {},
   "source": [
    "<b>Note: when using sMAPE as the loss function, the model tend to just predict the average instead of following the data like when using mse as loss function. I suppose guessing the average give low error too. It could very likely be that sMAPE is less sensitive at large % than small %, hence when sMAPE get small, the model doesn't know that small changes in sMAPE are even more significant.</b><br>\n",
    "mse, mean loss: 8.6%\n",
    "sMAPE, mean loss: 7.8%"
   ]
  },
  {
   "cell_type": "markdown",
   "metadata": {},
   "source": [
    "<hr>\n",
    "<h1 style=\"text-align: center;\">Models comparison</h1>"
   ]
  },
  {
   "cell_type": "markdown",
   "metadata": {},
   "source": [
    "<h2>1. Performance in term of loss</h2>\n",
    "<h2>2. Training time</h2>\n",
    "<h2>3. Univariate vs multivariate</h2>\n",
    "<p>\n",
    "    Due to the amount of models (207) needed to be optimized when using univariate approach. Careful attention about overfitting and underfitting were not possible. The models were only optimized for minimum validation loss.\n",
    "</p>"
   ]
  },
  {
   "cell_type": "markdown",
   "metadata": {},
   "source": [
    "<hr>\n",
    "<h1 style=\"text-align: center;\">Multiple-variate vs multivariate</h1>"
   ]
  },
  {
   "cell_type": "markdown",
   "metadata": {},
   "source": [
    "<hr>\n",
    "<h1 style=\"text-align: center;\">Notes</h1>"
   ]
  },
  {
   "cell_type": "markdown",
   "metadata": {},
   "source": [
    "<ul>\n",
    "    <li>Demographics bias was raised about this kind of forecasting approach. Therefore should overlay this time-series forecasting here with demographic information of Detroit.</li>\n",
    "</ul>"
   ]
  },
  {
   "cell_type": "markdown",
   "metadata": {},
   "source": [
    "<hr>\n",
    "<h1 style=\"text-align: center\">Additional study</h1>"
   ]
  },
  {
   "cell_type": "markdown",
   "metadata": {},
   "source": [
    "<h2>Tweets</h2>"
   ]
  },
  {
   "cell_type": "markdown",
   "metadata": {},
   "source": [
    "<b>CLEANING NOTES</b>\n",
    "<ul>\n",
    "    <li>Remove duplicated tweets.</li>\n",
    "    <li>Drop tweets WITHOUT GPS tag.</li>\n",
    "    <li>Separate <code>coordinates</code> into longitude and latitude</li>\n",
    "    <li>Label tweets with neighborhood FID and name</li>\n",
    "    <li>Drop tweets not in Detroit's neighborhoods.</li>\n",
    "    <li>Drop columns not relevant to this study.</li>\n",
    "    <li><code>created_at</code> need to be <code>datetime64</code></li>\n",
    "    <li>Filtered out tweets generated by bots, advertising, or traffice notification.</li>\n",
    "</ul>"
   ]
  },
  {
   "cell_type": "code",
   "execution_count": null,
   "metadata": {},
   "outputs": [],
   "source": [
    "# Process raw tweets csv files.\n",
    "files = [f\"data/tweet{i}.csv\" for i in range(7)]\n",
    "data_proc.process_tweets(files)"
   ]
  },
  {
   "cell_type": "code",
   "execution_count": null,
   "metadata": {},
   "outputs": [],
   "source": [
    "tweets = pd.read_csv(\"data/tweets_cleaned.csv\")\n",
    "tweets[\"created_at\"] = tweets[\"created_at\"].astype(\"datetime64\")\n",
    "tweets.set_index(\"created_at\", inplace=True)"
   ]
  },
  {
   "cell_type": "markdown",
   "metadata": {},
   "source": [
    "<h3>EDA</h3>"
   ]
  },
  {
   "cell_type": "code",
   "execution_count": null,
   "metadata": {},
   "outputs": [],
   "source": [
    "tweets.info()"
   ]
  },
  {
   "cell_type": "code",
   "execution_count": null,
   "metadata": {},
   "outputs": [],
   "source": [
    "# Tweet sources\n",
    "tweets[\"source\"].value_counts(normalize=True)"
   ]
  },
  {
   "cell_type": "code",
   "execution_count": null,
   "metadata": {},
   "outputs": [],
   "source": [
    "#plt.figure(figsize=(7,5))\n",
    "#plt.scatter(tweets[\"lng\"], tweets[\"lat\"], s=1, c=\"r\", alpha=0.5)\n",
    "plt.xlabel(\"Longitude\")\n",
    "plt.ylabel(\"Latitude\")\n",
    "for neighbor in detroit.boundaries.values():\n",
    "    plt.plot(*neighbor.exterior.xy, lw=1, c=\"b\", alpha=0.5)\n",
    "plt.show()"
   ]
  },
  {
   "cell_type": "code",
   "execution_count": null,
   "metadata": {},
   "outputs": [],
   "source": [
    "# Entire city tweets time series\n",
    "city_tweets_ts = data_proc.time_groupby(tweets, \"id_str\", freq=\"180Min\")\n",
    "plt.figure(figsize=(15,3))\n",
    "city_tweets_ts.sum(axis=1).plot()\n",
    "plt.show()"
   ]
  },
  {
   "cell_type": "code",
   "execution_count": null,
   "metadata": {},
   "outputs": [],
   "source": [
    "# Tweets ONE neighborhood\n",
    "# selected neighborhood\n",
    "nhood = \"19,Warrendale\"\n",
    "nhood_ts = data_proc.time_groupby(tweets, \n",
    "                                  col=\"id_str\",\n",
    "                                  agg=\"count\",\n",
    "                                  nhoods=[nhood],\n",
    "                                  freq=\"1440Min\")\n",
    "plt.figure(figsize=(15,3))\n",
    "nhood_ts.iloc[-160:].plot()\n",
    "plt.show()"
   ]
  },
  {
   "cell_type": "markdown",
   "metadata": {},
   "source": [
    "Note that the amount of tweets in a neighborhood is very low. This is like due to the fact that only a very small portion of Twitter users actually have their geo-tagged feature enable. Therefore, it appears that tweets count can not be used in analysis."
   ]
  },
  {
   "cell_type": "code",
   "execution_count": null,
   "metadata": {},
   "outputs": [],
   "source": [
    "%lsmagic"
   ]
  },
  {
   "cell_type": "code",
   "execution_count": null,
   "metadata": {},
   "outputs": [],
   "source": []
  }
 ],
 "metadata": {
  "kernelspec": {
   "display_name": "patrol",
   "language": "python",
   "name": "patrol"
  },
  "language_info": {
   "codemirror_mode": {
    "name": "ipython",
    "version": 3
   },
   "file_extension": ".py",
   "mimetype": "text/x-python",
   "name": "python",
   "nbconvert_exporter": "python",
   "pygments_lexer": "ipython3",
   "version": "3.7.9"
  }
 },
 "nbformat": 4,
 "nbformat_minor": 4
}
