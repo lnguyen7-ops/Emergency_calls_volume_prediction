{
 "cells": [
  {
   "cell_type": "code",
   "execution_count": 1,
   "metadata": {},
   "outputs": [],
   "source": [
    "import pandas as pd\n",
    "import matplotlib.pyplot as plt\n",
    "import seaborn as sns\n",
    "import numpy as np"
   ]
  },
  {
   "cell_type": "markdown",
   "metadata": {},
   "source": [
    "<h1 style=\"text-align: center;\">Data gathering</h1>"
   ]
  },
  {
   "cell_type": "markdown",
   "metadata": {},
   "source": [
    "<h2>1. Detroit neighborhoods info and polygons</h2>"
   ]
  },
  {
   "cell_type": "code",
   "execution_count": null,
   "metadata": {},
   "outputs": [],
   "source": [
    "import json\n",
    "# Detroit neighborhoods GEOJSON API\n",
    "url = \"https://services2.arcgis.com/qvkbeam7Wirps6zC/arcgis/rest/services/Neighborhoods_032015[shape]/FeatureServer/0/query?where=1%3D1&objectIds=&time=&geometry=&geometryType=esriGeometryPolygon&inSR=&spatialRel=esriSpatialRelIntersects&resultType=none&distance=0.0&units=esriSRUnit_Meter&returnGeodetic=false&outFields=*&returnGeometry=true&returnCentroid=false&featureEncoding=esriDefault&multipatchOption=xyFootprint&maxAllowableOffset=&geometryPrecision=&outSR=&datumTransformation=&applyVCSProjection=false&returnIdsOnly=false&returnUniqueIdsOnly=false&returnCountOnly=false&returnExtentOnly=false&returnQueryGeometry=false&returnDistinctValues=false&cacheHint=false&orderByFields=&groupByFieldsForStatistics=&outStatistics=&having=&resultOffset=&resultRecordCount=&returnZ=false&returnM=false&returnExceededLimitFeatures=true&quantizationParameters=&sqlFormat=none&f=pgeojson&token=\"\n",
    "# Detroit neighborhoods polygons\n",
    "neighbors = requests.get(url).json()\n",
    "# Write json to file to be used later when making geo-heatmap\n",
    "with open('data/raw/detroit_geo.json', 'w') as outfile:\n",
    "    json.dump(neighbors, outfile)\n",
    "\n",
    "# convert to dataframe\n",
    "d = pd.DataFrame.from_dict(neighbors[\"features\"])\n",
    "polys = d[\"geometry\"]\n",
    "temp = []\n",
    "for i in range(d.shape[0]):\n",
    "    temp.append(pd.DataFrame.from_dict(d[\"properties\"][i], orient=\"index\").transpose())\n",
    "df = pd.concat(temp, axis=0, ignore_index=True)\n",
    "df = pd.concat([df, polys], axis=1)\n",
    "print(df.shape)\n",
    "# write neighborhood information to csv file\n",
    "df.to_csv(\"data/raw/neighborhoods.csv\", mode=\"w\", header=True, index=False)"
   ]
  },
  {
   "cell_type": "markdown",
   "metadata": {},
   "source": [
    "<hr style=\"border: 0.5px dashed;\">\n",
    "<h2>2. Detroit 911 calls</h2>"
   ]
  },
  {
   "cell_type": "markdown",
   "metadata": {},
   "source": [
    "<h3>2.1 Data since Sep 20, 2016</h3>"
   ]
  },
  {
   "cell_type": "code",
   "execution_count": null,
   "metadata": {},
   "outputs": [],
   "source": [
    "import urllib.request\n",
    "print(\"Beginning file download...\")\n",
    "# Detroit city 911 calls since Sep 20, 2016\n",
    "url = \"https://opendata.arcgis.com/datasets/4f49eb825f564efa9a23cd103c4ba13b_0.csv\"\n",
    "urllib.request.urlretrieve(url, f\"data/raw/Detroit_911_calls/911_Calls_For_Service.csv\")"
   ]
  },
  {
   "cell_type": "code",
   "execution_count": null,
   "metadata": {},
   "outputs": [],
   "source": [
    "%%bash # Use awk to select only data from year 2020.\n",
    "head -1 data/raw/Detroit_911_calls/911_Calls_For_Service.csv > data/raw/Detroit_911_calls/911_Calls_2020.csv # keep only column labels\n",
    "awk -F\",\" '$11~2020' data/raw/Detroit_911_calls/911_Calls_For_Service.csv >> data/raw/Detroit_911_calls/911_Calls_2020_file0.csv # add to file."
   ]
  },
  {
   "cell_type": "markdown",
   "metadata": {},
   "source": [
    "<h3>2.2 Data last 30 days</h3>"
   ]
  },
  {
   "cell_type": "code",
   "execution_count": 1,
   "metadata": {},
   "outputs": [
    {
     "name": "stdout",
     "output_type": "stream",
     "text": [
      "Beginning file download...\n"
     ]
    },
    {
     "data": {
      "text/plain": [
       "('data/raw/Detroit_911_calls/911_Calls_2020_file4.csv',\n",
       " <http.client.HTTPMessage at 0x7fae25882d90>)"
      ]
     },
     "execution_count": 1,
     "metadata": {},
     "output_type": "execute_result"
    }
   ],
   "source": [
    "import urllib.request\n",
    "print(\"Beginning file download...\")\n",
    "# file increment\n",
    "file_num = 4\n",
    "# Detroit city 911 calls last 30 days\n",
    "url = \"https://opendata.arcgis.com/datasets/2901fec24266445588b4a3bf67098886_0.csv\"\n",
    "# Save csv to local machine\n",
    "urllib.request.urlretrieve(url, f\"data/raw/Detroit_911_calls/911_Calls_2020_file{file_num}.csv\")"
   ]
  },
  {
   "cell_type": "markdown",
   "metadata": {},
   "source": [
    "<hr style=\"border: 0.5px dashed;\">\n",
    "<h2>3. Gather tweets</h2>\n",
    "<b>NOTE: Twitter API</b>\n",
    "<ul>\n",
    "    <li>Time stamp: Twitter time stamp in GMT</li>\n",
    "    <li>Radius: \"mi\" or \"km\". Maximum 25mi.</li>\n",
    "</ul>\n",
    "<b>Current issues:</b>\n",
    "<ul>\n",
    "    <li>2020-09-23</li>\n",
    "    <ul>\n",
    "        <li>While can search tweets comming from around a geo-coordinate. Twitter will fall back to user's profile coordinate if tweets' geotag is not found and not enabled. However strangely, when I queried at (42.437298,-82.951111) Detroit, I got tweets by user_id=1308885595586953222, who profile is in England.</li>\n",
    "    </ul>\n",
    "</ul>\n",
    "<b>Tweets processing</b>\n",
    "<ul>\n",
    "    <li>Select only geo-tagged tweet</li>\n",
    "    <li>Remove tweets related to advertising (e.g. jobs, traffic updates, internet bot). DON'T Know how to do this yet.</li>\n",
    "</ul>"
   ]
  },
  {
   "cell_type": "code",
   "execution_count": 2,
   "metadata": {},
   "outputs": [],
   "source": [
    "# CREATE THE QUERY OBJECT\n",
    "# Import custom utility package\n",
    "import utils\n",
    "# Import personal Twitter API secrets\n",
    "from keys import my_api_secrets\n",
    "# List of gps coordinates (radius=1 mile) covering Detroit\n",
    "# This is used for Twitter REST API\n",
    "coords = utils.Detroit_gps.coords_1mile\n",
    "r = \"1mi\"\n",
    "# Detroit bounding box. Used for Twitter stream API\n",
    "box = utils.Detroit_gps.box\n",
    "# **CSV FILE INCREMENT**\n",
    "num = 6\n",
    "\n",
    "# Create tweet query object\n",
    "# NOTE: Twitter_query object will write csv files into\n",
    "# directory \"data/raw/tweets/\"\n",
    "detroit_tweets = utils.Twitter_query.Twq(my_api_secrets.twitter_secrets, coords, r, box, num)"
   ]
  },
  {
   "cell_type": "code",
   "execution_count": null,
   "metadata": {},
   "outputs": [],
   "source": [
    "# If need to reimport the utils package\n",
    "#import importlib\n",
    "#importlib.reload(utils)"
   ]
  },
  {
   "cell_type": "code",
   "execution_count": 3,
   "metadata": {},
   "outputs": [
    {
     "name": "stdout",
     "output_type": "stream",
     "text": [
      "Local time: 2020-11-25\t10:4\n",
      "Tweets: 2471\tUsers: 2471\tPlaces: 1861\n",
      "--------------------------------------------------\n"
     ]
    }
   ],
   "source": [
    "# METHOD 1: REST API, search (pull) request.\n",
    "# Run search once\n",
    "detroit_tweets.search()\n",
    "# Schedule search for automatic run in future\n",
    "#detroit_tweets.repeated_search(interval=1) #every 1hour"
   ]
  },
  {
   "cell_type": "code",
   "execution_count": null,
   "metadata": {},
   "outputs": [],
   "source": [
    "# METHOD 2: LIVE STREAM API, twitter push request.\n",
    "# start stream\n",
    "detroit_tweets.start_stream()"
   ]
  },
  {
   "cell_type": "code",
   "execution_count": null,
   "metadata": {},
   "outputs": [],
   "source": [
    "# stop stream\n",
    "detroit_tweets.stop_stream()"
   ]
  },
  {
   "cell_type": "code",
   "execution_count": null,
   "metadata": {},
   "outputs": [],
   "source": [
    "detroit_tweets.search_api.rate_limit_status()"
   ]
  }
 ],
 "metadata": {
  "kernelspec": {
   "display_name": "patrol",
   "language": "python",
   "name": "patrol"
  },
  "language_info": {
   "codemirror_mode": {
    "name": "ipython",
    "version": 3
   },
   "file_extension": ".py",
   "mimetype": "text/x-python",
   "name": "python",
   "nbconvert_exporter": "python",
   "pygments_lexer": "ipython3",
   "version": "3.7.9"
  }
 },
 "nbformat": 4,
 "nbformat_minor": 4
}
