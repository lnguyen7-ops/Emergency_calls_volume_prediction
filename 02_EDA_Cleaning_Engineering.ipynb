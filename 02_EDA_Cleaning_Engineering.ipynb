{
 "cells": [
  {
   "cell_type": "code",
   "execution_count": 2,
   "metadata": {},
   "outputs": [],
   "source": [
    "import pandas as pd\n",
    "import numpy as np\n",
    "import matplotlib.pyplot as plt\n",
    "import seaborn as sns\n",
    "sns.set_context(\"talk\")\n",
    "\n",
    "# package use to convert string to other datatype e.g. list, dict, ...\n",
    "import ast\n",
    "# Packages for generating polygon\n",
    "from shapely.geometry import Point\n",
    "from shapely.geometry.polygon import Polygon\n",
    "\n",
    "import importlib # to reload package dynamically.\n",
    "#*******************************\n",
    "# Custom package to process data\n",
    "import utils\n",
    "#*******************************\n",
    "\n",
    "import warnings\n",
    "warnings.filterwarnings(\"ignore\")"
   ]
  },
  {
   "cell_type": "markdown",
   "metadata": {},
   "source": [
    "<hr style=\"border: 0.5px dashed;\">\n",
    "<h2>Neighborhoods object</h2>\n",
    "<p>\n",
    "    This object contain Detroit neightborhood information which will be used to process 911 calls. Note that FID of 174 and 205 have the same name \"Oak Grove\". Therefore, need to update 911 calls dataframe with FID labels instead of using neighborhood name.\n",
    "</p>"
   ]
  },
  {
   "cell_type": "code",
   "execution_count": 3,
   "metadata": {},
   "outputs": [],
   "source": [
    "# Create Detroit neighborhood object\n",
    "detroit = utils.neighborhoods.neighborhoods(\"data/raw/neighborhoods.csv\")"
   ]
  },
  {
   "cell_type": "markdown",
   "metadata": {},
   "source": [
    "<hr>\n",
    "<h1 style=\"text-align: center\">EDA</h1>"
   ]
  },
  {
   "cell_type": "code",
   "execution_count": 4,
   "metadata": {},
   "outputs": [
    {
     "data": {
      "text/plain": [
       "(986054, 27)"
      ]
     },
     "execution_count": 4,
     "metadata": {},
     "output_type": "execute_result"
    }
   ],
   "source": [
    "# Read in all 911 calls files (for year 2020 only)\n",
    "files = [f\"data/raw/Detroit_911_calls/911_Calls_2020_file{i}.csv\" for i in range(4)]\n",
    "df = pd.DataFrame()\n",
    "for file in files:\n",
    "    df = pd.concat([df, pd.read_csv(file, thousands=\",\")], axis=0)\n",
    "df.shape"
   ]
  },
  {
   "cell_type": "code",
   "execution_count": 5,
   "metadata": {},
   "outputs": [
    {
     "data": {
      "text/html": [
       "<div>\n",
       "<style scoped>\n",
       "    .dataframe tbody tr th:only-of-type {\n",
       "        vertical-align: middle;\n",
       "    }\n",
       "\n",
       "    .dataframe tbody tr th {\n",
       "        vertical-align: top;\n",
       "    }\n",
       "\n",
       "    .dataframe thead th {\n",
       "        text-align: right;\n",
       "    }\n",
       "</style>\n",
       "<table border=\"1\" class=\"dataframe\">\n",
       "  <thead>\n",
       "    <tr style=\"text-align: right;\">\n",
       "      <th></th>\n",
       "      <th>X</th>\n",
       "      <th>Y</th>\n",
       "      <th>incident_id</th>\n",
       "      <th>agency</th>\n",
       "      <th>incident_address</th>\n",
       "      <th>zip_code</th>\n",
       "      <th>priority</th>\n",
       "      <th>callcode</th>\n",
       "      <th>calldescription</th>\n",
       "      <th>category</th>\n",
       "      <th>...</th>\n",
       "      <th>totalresponsetime</th>\n",
       "      <th>time_on_scene</th>\n",
       "      <th>totaltime</th>\n",
       "      <th>neighborhood</th>\n",
       "      <th>block_id</th>\n",
       "      <th>council_district</th>\n",
       "      <th>longitude</th>\n",
       "      <th>latitude</th>\n",
       "      <th>oid</th>\n",
       "      <th>ObjectId</th>\n",
       "    </tr>\n",
       "  </thead>\n",
       "  <tbody>\n",
       "    <tr>\n",
       "      <th>0</th>\n",
       "      <td>-83.023396</td>\n",
       "      <td>42.339034</td>\n",
       "      <td>201936503569</td>\n",
       "      <td>DPD</td>\n",
       "      <td>Chene St &amp; E Larned St</td>\n",
       "      <td>48207</td>\n",
       "      <td>3</td>\n",
       "      <td>935030</td>\n",
       "      <td>REMARKS</td>\n",
       "      <td>REMARKS</td>\n",
       "      <td>...</td>\n",
       "      <td>0.0</td>\n",
       "      <td>8.7</td>\n",
       "      <td>8.7</td>\n",
       "      <td>Elmwood Park</td>\n",
       "      <td>2.616352e+14</td>\n",
       "      <td>5.0</td>\n",
       "      <td>-83.023396</td>\n",
       "      <td>42.339034</td>\n",
       "      <td>2574156.0</td>\n",
       "      <td>NaN</td>\n",
       "    </tr>\n",
       "    <tr>\n",
       "      <th>1</th>\n",
       "      <td>-82.951111</td>\n",
       "      <td>42.437298</td>\n",
       "      <td>201936503571</td>\n",
       "      <td>DPD</td>\n",
       "      <td>Kelly Rd &amp; Lappin St</td>\n",
       "      <td>48205</td>\n",
       "      <td>3</td>\n",
       "      <td>875030</td>\n",
       "      <td>HANGUP CALLS</td>\n",
       "      <td>HNGUP</td>\n",
       "      <td>...</td>\n",
       "      <td>NaN</td>\n",
       "      <td>NaN</td>\n",
       "      <td>NaN</td>\n",
       "      <td>Regent Park</td>\n",
       "      <td>2.616350e+14</td>\n",
       "      <td>3.0</td>\n",
       "      <td>-82.951111</td>\n",
       "      <td>42.437298</td>\n",
       "      <td>2574157.0</td>\n",
       "      <td>NaN</td>\n",
       "    </tr>\n",
       "    <tr>\n",
       "      <th>2</th>\n",
       "      <td>-83.195474</td>\n",
       "      <td>42.382234</td>\n",
       "      <td>201936503574</td>\n",
       "      <td>DPD</td>\n",
       "      <td>Glendale St &amp; Whitcomb St</td>\n",
       "      <td>48227</td>\n",
       "      <td>1</td>\n",
       "      <td>352010</td>\n",
       "      <td>BURGLARY OCCUPIED RESD I/P</td>\n",
       "      <td>HI1 I/P</td>\n",
       "      <td>...</td>\n",
       "      <td>6.7</td>\n",
       "      <td>17.5</td>\n",
       "      <td>24.2</td>\n",
       "      <td>Schoolcraft Southfield</td>\n",
       "      <td>2.616354e+14</td>\n",
       "      <td>1.0</td>\n",
       "      <td>-83.195474</td>\n",
       "      <td>42.382234</td>\n",
       "      <td>2574158.0</td>\n",
       "      <td>NaN</td>\n",
       "    </tr>\n",
       "    <tr>\n",
       "      <th>3</th>\n",
       "      <td>-83.184107</td>\n",
       "      <td>42.432743</td>\n",
       "      <td>201936503576</td>\n",
       "      <td>DPD</td>\n",
       "      <td>Cambridge Ave &amp; Stansbury St</td>\n",
       "      <td>48235</td>\n",
       "      <td>2</td>\n",
       "      <td>TS</td>\n",
       "      <td>TRAFFIC STOP</td>\n",
       "      <td>TRF STOP</td>\n",
       "      <td>...</td>\n",
       "      <td>0.0</td>\n",
       "      <td>30.3</td>\n",
       "      <td>30.3</td>\n",
       "      <td>Schaefer 7/8 Lodge</td>\n",
       "      <td>2.616354e+14</td>\n",
       "      <td>2.0</td>\n",
       "      <td>-83.184107</td>\n",
       "      <td>42.432743</td>\n",
       "      <td>2574159.0</td>\n",
       "      <td>NaN</td>\n",
       "    </tr>\n",
       "    <tr>\n",
       "      <th>4</th>\n",
       "      <td>-82.972233</td>\n",
       "      <td>42.416769</td>\n",
       "      <td>201936503579</td>\n",
       "      <td>DPD</td>\n",
       "      <td>Kilbourne Ave &amp; Chalmers St</td>\n",
       "      <td>48213</td>\n",
       "      <td>3</td>\n",
       "      <td>935030</td>\n",
       "      <td>REMARKS</td>\n",
       "      <td>REMARKS</td>\n",
       "      <td>...</td>\n",
       "      <td>0.0</td>\n",
       "      <td>6.7</td>\n",
       "      <td>6.7</td>\n",
       "      <td>Outer Drive-Hayes</td>\n",
       "      <td>2.616350e+14</td>\n",
       "      <td>4.0</td>\n",
       "      <td>-82.972233</td>\n",
       "      <td>42.416769</td>\n",
       "      <td>2574160.0</td>\n",
       "      <td>NaN</td>\n",
       "    </tr>\n",
       "    <tr>\n",
       "      <th>...</th>\n",
       "      <td>...</td>\n",
       "      <td>...</td>\n",
       "      <td>...</td>\n",
       "      <td>...</td>\n",
       "      <td>...</td>\n",
       "      <td>...</td>\n",
       "      <td>...</td>\n",
       "      <td>...</td>\n",
       "      <td>...</td>\n",
       "      <td>...</td>\n",
       "      <td>...</td>\n",
       "      <td>...</td>\n",
       "      <td>...</td>\n",
       "      <td>...</td>\n",
       "      <td>...</td>\n",
       "      <td>...</td>\n",
       "      <td>...</td>\n",
       "      <td>...</td>\n",
       "      <td>...</td>\n",
       "      <td>...</td>\n",
       "      <td>...</td>\n",
       "    </tr>\n",
       "    <tr>\n",
       "      <th>84452</th>\n",
       "      <td>-83.258296</td>\n",
       "      <td>42.429128</td>\n",
       "      <td>202032503881</td>\n",
       "      <td>DPD</td>\n",
       "      <td>W 7 Mile Rd &amp; Lahser Rd</td>\n",
       "      <td>48219</td>\n",
       "      <td>2</td>\n",
       "      <td>345020</td>\n",
       "      <td>PERSON WITH WEAPON</td>\n",
       "      <td>WEAPON</td>\n",
       "      <td>...</td>\n",
       "      <td>NaN</td>\n",
       "      <td>NaN</td>\n",
       "      <td>NaN</td>\n",
       "      <td>Berg-Lahser</td>\n",
       "      <td>2.616354e+14</td>\n",
       "      <td>1.0</td>\n",
       "      <td>-83.258296</td>\n",
       "      <td>42.429128</td>\n",
       "      <td>NaN</td>\n",
       "      <td>84453.0</td>\n",
       "    </tr>\n",
       "    <tr>\n",
       "      <th>84453</th>\n",
       "      <td>-83.154077</td>\n",
       "      <td>42.386045</td>\n",
       "      <td>202032503884</td>\n",
       "      <td>DPD</td>\n",
       "      <td>Cherrylawn St &amp; W Davison St</td>\n",
       "      <td>48238</td>\n",
       "      <td>2</td>\n",
       "      <td>TS</td>\n",
       "      <td>TRAFFIC STOP</td>\n",
       "      <td>TRF STOP</td>\n",
       "      <td>...</td>\n",
       "      <td>0.0</td>\n",
       "      <td>8.8</td>\n",
       "      <td>8.8</td>\n",
       "      <td>Davison-Schoolcraft</td>\n",
       "      <td>2.616354e+14</td>\n",
       "      <td>7.0</td>\n",
       "      <td>-83.154077</td>\n",
       "      <td>42.386045</td>\n",
       "      <td>NaN</td>\n",
       "      <td>84454.0</td>\n",
       "    </tr>\n",
       "    <tr>\n",
       "      <th>84454</th>\n",
       "      <td>-83.063929</td>\n",
       "      <td>42.414862</td>\n",
       "      <td>202032503886</td>\n",
       "      <td>DPD</td>\n",
       "      <td>E Davison St &amp; Newbern St</td>\n",
       "      <td>48212</td>\n",
       "      <td>2</td>\n",
       "      <td>TS</td>\n",
       "      <td>TRAFFIC STOP</td>\n",
       "      <td>TRF STOP</td>\n",
       "      <td>...</td>\n",
       "      <td>0.0</td>\n",
       "      <td>7.0</td>\n",
       "      <td>7.0</td>\n",
       "      <td>North Campau</td>\n",
       "      <td>2.616351e+14</td>\n",
       "      <td>3.0</td>\n",
       "      <td>-83.063929</td>\n",
       "      <td>42.414862</td>\n",
       "      <td>NaN</td>\n",
       "      <td>84455.0</td>\n",
       "    </tr>\n",
       "    <tr>\n",
       "      <th>84455</th>\n",
       "      <td>-83.018099</td>\n",
       "      <td>42.434093</td>\n",
       "      <td>202032503888</td>\n",
       "      <td>DPD</td>\n",
       "      <td>E 7 Mile Rd &amp; Antwerp St</td>\n",
       "      <td>48234</td>\n",
       "      <td>2</td>\n",
       "      <td>TS</td>\n",
       "      <td>TRAFFIC STOP</td>\n",
       "      <td>TRF STOP</td>\n",
       "      <td>...</td>\n",
       "      <td>0.0</td>\n",
       "      <td>10.7</td>\n",
       "      <td>10.7</td>\n",
       "      <td>Nortown</td>\n",
       "      <td>2.616351e+14</td>\n",
       "      <td>3.0</td>\n",
       "      <td>-83.018099</td>\n",
       "      <td>42.434093</td>\n",
       "      <td>NaN</td>\n",
       "      <td>84456.0</td>\n",
       "    </tr>\n",
       "    <tr>\n",
       "      <th>84456</th>\n",
       "      <td>-83.098115</td>\n",
       "      <td>42.407058</td>\n",
       "      <td>202032503889</td>\n",
       "      <td>DPD</td>\n",
       "      <td>Manchester Pkwy &amp; Woodward Ave</td>\n",
       "      <td>48203</td>\n",
       "      <td>3</td>\n",
       "      <td>827030</td>\n",
       "      <td>BUS BOARDING</td>\n",
       "      <td>BUS BRD</td>\n",
       "      <td>...</td>\n",
       "      <td>0.0</td>\n",
       "      <td>3.7</td>\n",
       "      <td>3.7</td>\n",
       "      <td>NaN</td>\n",
       "      <td>2.616355e+14</td>\n",
       "      <td>NaN</td>\n",
       "      <td>-83.098115</td>\n",
       "      <td>42.407058</td>\n",
       "      <td>NaN</td>\n",
       "      <td>84457.0</td>\n",
       "    </tr>\n",
       "  </tbody>\n",
       "</table>\n",
       "<p>986054 rows × 27 columns</p>\n",
       "</div>"
      ],
      "text/plain": [
       "               X          Y   incident_id agency  \\\n",
       "0     -83.023396  42.339034  201936503569   DPD    \n",
       "1     -82.951111  42.437298  201936503571   DPD    \n",
       "2     -83.195474  42.382234  201936503574   DPD    \n",
       "3     -83.184107  42.432743  201936503576   DPD    \n",
       "4     -82.972233  42.416769  201936503579   DPD    \n",
       "...          ...        ...           ...    ...   \n",
       "84452 -83.258296  42.429128  202032503881   DPD    \n",
       "84453 -83.154077  42.386045  202032503884   DPD    \n",
       "84454 -83.063929  42.414862  202032503886   DPD    \n",
       "84455 -83.018099  42.434093  202032503888   DPD    \n",
       "84456 -83.098115  42.407058  202032503889   DPD    \n",
       "\n",
       "                     incident_address zip_code priority callcode  \\\n",
       "0              Chene St & E Larned St    48207        3   935030   \n",
       "1                Kelly Rd & Lappin St    48205        3   875030   \n",
       "2           Glendale St & Whitcomb St    48227        1   352010   \n",
       "3        Cambridge Ave & Stansbury St    48235        2   TS       \n",
       "4         Kilbourne Ave & Chalmers St    48213        3   935030   \n",
       "...                               ...      ...      ...      ...   \n",
       "84452         W 7 Mile Rd & Lahser Rd    48219        2   345020   \n",
       "84453    Cherrylawn St & W Davison St    48238        2   TS       \n",
       "84454       E Davison St & Newbern St    48212        2   TS       \n",
       "84455        E 7 Mile Rd & Antwerp St    48234        2   TS       \n",
       "84456  Manchester Pkwy & Woodward Ave    48203        3   827030   \n",
       "\n",
       "                  calldescription  category  ... totalresponsetime  \\\n",
       "0                         REMARKS  REMARKS   ...               0.0   \n",
       "1                    HANGUP CALLS  HNGUP     ...               NaN   \n",
       "2      BURGLARY OCCUPIED RESD I/P  HI1 I/P   ...               6.7   \n",
       "3                    TRAFFIC STOP  TRF STOP  ...               0.0   \n",
       "4                         REMARKS  REMARKS   ...               0.0   \n",
       "...                           ...       ...  ...               ...   \n",
       "84452          PERSON WITH WEAPON  WEAPON    ...               NaN   \n",
       "84453                TRAFFIC STOP  TRF STOP  ...               0.0   \n",
       "84454                TRAFFIC STOP  TRF STOP  ...               0.0   \n",
       "84455                TRAFFIC STOP  TRF STOP  ...               0.0   \n",
       "84456                BUS BOARDING  BUS BRD   ...               0.0   \n",
       "\n",
       "      time_on_scene totaltime            neighborhood      block_id  \\\n",
       "0               8.7       8.7            Elmwood Park  2.616352e+14   \n",
       "1               NaN       NaN             Regent Park  2.616350e+14   \n",
       "2              17.5      24.2  Schoolcraft Southfield  2.616354e+14   \n",
       "3              30.3      30.3      Schaefer 7/8 Lodge  2.616354e+14   \n",
       "4               6.7       6.7       Outer Drive-Hayes  2.616350e+14   \n",
       "...             ...       ...                     ...           ...   \n",
       "84452           NaN       NaN             Berg-Lahser  2.616354e+14   \n",
       "84453           8.8       8.8     Davison-Schoolcraft  2.616354e+14   \n",
       "84454           7.0       7.0            North Campau  2.616351e+14   \n",
       "84455          10.7      10.7                 Nortown  2.616351e+14   \n",
       "84456           3.7       3.7                     NaN  2.616355e+14   \n",
       "\n",
       "       council_district  longitude   latitude        oid  ObjectId  \n",
       "0                   5.0 -83.023396  42.339034  2574156.0       NaN  \n",
       "1                   3.0 -82.951111  42.437298  2574157.0       NaN  \n",
       "2                   1.0 -83.195474  42.382234  2574158.0       NaN  \n",
       "3                   2.0 -83.184107  42.432743  2574159.0       NaN  \n",
       "4                   4.0 -82.972233  42.416769  2574160.0       NaN  \n",
       "...                 ...        ...        ...        ...       ...  \n",
       "84452               1.0 -83.258296  42.429128        NaN   84453.0  \n",
       "84453               7.0 -83.154077  42.386045        NaN   84454.0  \n",
       "84454               3.0 -83.063929  42.414862        NaN   84455.0  \n",
       "84455               3.0 -83.018099  42.434093        NaN   84456.0  \n",
       "84456               NaN -83.098115  42.407058        NaN   84457.0  \n",
       "\n",
       "[986054 rows x 27 columns]"
      ]
     },
     "execution_count": 5,
     "metadata": {},
     "output_type": "execute_result"
    }
   ],
   "source": [
    "df"
   ]
  },
  {
   "cell_type": "code",
   "execution_count": 6,
   "metadata": {},
   "outputs": [
    {
     "name": "stdout",
     "output_type": "stream",
     "text": [
      "<class 'pandas.core.frame.DataFrame'>\n",
      "RangeIndex: 986054 entries, 0 to 986053\n",
      "Data columns (total 27 columns):\n",
      " #   Column             Non-Null Count   Dtype  \n",
      "---  ------             --------------   -----  \n",
      " 0   X                  986054 non-null  float64\n",
      " 1   Y                  986054 non-null  float64\n",
      " 2   incident_id        986054 non-null  int64  \n",
      " 3   agency             986054 non-null  object \n",
      " 4   incident_address   962778 non-null  object \n",
      " 5   zip_code           986054 non-null  object \n",
      " 6   priority           986054 non-null  object \n",
      " 7   callcode           986054 non-null  object \n",
      " 8   calldescription    986054 non-null  object \n",
      " 9   category           986054 non-null  object \n",
      " 10  call_timestamp     986054 non-null  object \n",
      " 11  precinct_sca       986054 non-null  object \n",
      " 12  respondingunit     609511 non-null  object \n",
      " 13  officerinitiated   986054 non-null  object \n",
      " 14  intaketime         978447 non-null  float64\n",
      " 15  dispatchtime       920901 non-null  float64\n",
      " 16  traveltime         911144 non-null  float64\n",
      " 17  totalresponsetime  911144 non-null  float64\n",
      " 18  time_on_scene      907177 non-null  float64\n",
      " 19  totaltime          916933 non-null  float64\n",
      " 20  neighborhood       948304 non-null  object \n",
      " 21  block_id           962767 non-null  float64\n",
      " 22  council_district   951652 non-null  float64\n",
      " 23  longitude          986054 non-null  float64\n",
      " 24  latitude           986054 non-null  float64\n",
      " 25  oid                739858 non-null  float64\n",
      " 26  ObjectId           246196 non-null  float64\n",
      "dtypes: float64(14), int64(1), object(12)\n",
      "memory usage: 203.1+ MB\n"
     ]
    }
   ],
   "source": [
    "df.reset_index(drop=True).info()"
   ]
  },
  {
   "cell_type": "code",
   "execution_count": 7,
   "metadata": {},
   "outputs": [
    {
     "name": "stdout",
     "output_type": "stream",
     "text": [
      "<class 'pandas.core.frame.DataFrame'>\n",
      "RangeIndex: 902523 entries, 0 to 902522\n",
      "Data columns (total 27 columns):\n",
      " #   Column             Non-Null Count   Dtype  \n",
      "---  ------             --------------   -----  \n",
      " 0   X                  902523 non-null  float64\n",
      " 1   Y                  902523 non-null  float64\n",
      " 2   incident_id        902523 non-null  int64  \n",
      " 3   agency             902523 non-null  object \n",
      " 4   incident_address   880999 non-null  object \n",
      " 5   zip_code           902523 non-null  object \n",
      " 6   priority           902523 non-null  object \n",
      " 7   callcode           902523 non-null  object \n",
      " 8   calldescription    902523 non-null  object \n",
      " 9   category           902523 non-null  object \n",
      " 10  call_timestamp     902523 non-null  object \n",
      " 11  precinct_sca       902523 non-null  object \n",
      " 12  respondingunit     556605 non-null  object \n",
      " 13  officerinitiated   902523 non-null  object \n",
      " 14  intaketime         895549 non-null  float64\n",
      " 15  dispatchtime       841275 non-null  float64\n",
      " 16  traveltime         832389 non-null  float64\n",
      " 17  totalresponsetime  832389 non-null  float64\n",
      " 18  time_on_scene      828671 non-null  float64\n",
      " 19  totaltime          837550 non-null  float64\n",
      " 20  neighborhood       867724 non-null  object \n",
      " 21  block_id           880988 non-null  float64\n",
      " 22  council_district   870806 non-null  float64\n",
      " 23  longitude          902523 non-null  float64\n",
      " 24  latitude           902523 non-null  float64\n",
      " 25  oid                739858 non-null  float64\n",
      " 26  ObjectId           162665 non-null  float64\n",
      "dtypes: float64(14), int64(1), object(12)\n",
      "memory usage: 185.9+ MB\n"
     ]
    }
   ],
   "source": [
    "# Drop duplicates (using incident_id)\n",
    "df.drop_duplicates(subset=[\"incident_id\"], inplace=True, ignore_index=True)\n",
    "df.info()"
   ]
  },
  {
   "cell_type": "code",
   "execution_count": 8,
   "metadata": {},
   "outputs": [
    {
     "data": {
      "text/plain": [
       "902518    2020/11/20 23:20:57+00\n",
       "902519    2020/11/20 23:22:25+00\n",
       "902520    2020/11/20 23:22:59+00\n",
       "902521    2020/11/20 23:23:02+00\n",
       "902522    2020/11/20 23:23:18+00\n",
       "Name: call_timestamp, dtype: object"
      ]
     },
     "execution_count": 8,
     "metadata": {},
     "output_type": "execute_result"
    }
   ],
   "source": [
    "# Check the date and time of newest call.\n",
    "df[\"call_timestamp\"].tail()"
   ]
  },
  {
   "cell_type": "markdown",
   "metadata": {},
   "source": [
    "<h3>1. Locations</h3>\n",
    "<p> Visual check the locations of calls to see if they are actually in Detroit. </p>"
   ]
  },
  {
   "cell_type": "code",
   "execution_count": 15,
   "metadata": {},
   "outputs": [
    {
     "data": {
      "image/png": "[encoded data removed]",
      "text/plain": [
       "<Figure size 432x288 with 1 Axes>"
      ]
     },
     "metadata": {
      "needs_background": "light"
     },
     "output_type": "display_data"
    }
   ],
   "source": [
    "# Intersection locations of calls\n",
    "plt.figure(figsize=(6,4))\n",
    "plt.scatter(x=df[\"longitude\"], y=df[\"latitude\"], s=0.5, alpha=0.1)\n",
    "plt.xlabel(\"Longitude\")\n",
    "plt.ylabel(\"Latitude\")\n",
    "plt.show()"
   ]
  },
  {
   "cell_type": "markdown",
   "metadata": {},
   "source": [
    "Strangely enough, most 911 calls records are inside Detroit city. However, there are some locations way outside of Detroit city. These are also likely the data that are null in the \"neighborhood\" column. These outsdie area calls should be removed."
   ]
  },
  {
   "cell_type": "markdown",
   "metadata": {},
   "source": [
    "<h3>2. Neighborhoods</h3>\n",
    "<p>\n",
    "    Check the list of neighborhoods in 911 calls data against the list of neighborhoods from city boundary data to make sure they match.\n",
    "</p>"
   ]
  },
  {
   "cell_type": "code",
   "execution_count": 24,
   "metadata": {},
   "outputs": [
    {
     "name": "stdout",
     "output_type": "stream",
     "text": [
      "Num of neighborhoods from city data:\t 208\n",
      "Num of neighborhoods from 911 calls:\t 207\n"
     ]
    }
   ],
   "source": [
    "# Neighborhoods data from city.\n",
    "# Create Detroit neighborhood object\n",
    "detroit = utils.neighborhoods.neighborhoods(\"data/raw/neighborhoods.csv\")\n",
    "# Number of neighborhoods from city boundary data\n",
    "print(\"Num of neighborhoods from city data:\\t\", detroit.num_nhood)\n",
    "print(\"Num of neighborhoods from 911 calls:\\t\", df[\"neighborhood\"].nunique())"
   ]
  },
  {
   "cell_type": "markdown",
   "metadata": {},
   "source": [
    "<p>\n",
    "    Note that there is discrepancy between the number of neighborhoods from the city boundary data and 911 records.<br>\n",
    "    After further looking, it was found that in city neighborhood records FID of 174 and 205 have the same neighborhood name \"Oak Grove\". However, 911 calls records do not include neighborhood FIDs but only their names. Therefore, need to update 911 calls dataframe with FID labels instead of using neighborhood names. For all calls from neighborhood \"Oak Grove\", they will be relabeled into two neighborhoods (with FID included).\n",
    "</p>"
   ]
  },
  {
   "cell_type": "markdown",
   "metadata": {},
   "source": [
    "<h3>3. Categories of calls</h3>"
   ]
  },
  {
   "cell_type": "code",
   "execution_count": 73,
   "metadata": {},
   "outputs": [
    {
     "name": "stdout",
     "output_type": "stream",
     "text": [
      "Categories:  201\n"
     ]
    },
    {
     "data": {
      "image/png": "[encoded data removed]",
      "text/plain": [
       "<Figure size 432x288 with 1 Axes>"
      ]
     },
     "metadata": {
      "needs_background": "light"
     },
     "output_type": "display_data"
    }
   ],
   "source": [
    "# 911 call categories\n",
    "print(\"Categories: \", df[\"category\"].nunique())\n",
    "categories = df[\"category\"].value_counts(normalize=True)*100\n",
    "# Plot relative percent of call categories\n",
    "# Only showing the top 10 categories\n",
    "data = categories[:10][::-1] # ascending order\n",
    "plt.figure()\n",
    "plt.barh(y=data.index, width=data.values, height=0.75)\n",
    "plt.xlim((0,max(data.values)+5))\n",
    "plt.xlabel(\"Relative percentage\")\n",
    "plt.ylabel(\"911 calls categories\")\n",
    "# labels the bar with values\n",
    "for i, v in enumerate(data.index):\n",
    "    plt.text(data.values[i]+0.5, -0.25 + i, f\"{data.values[i]:.2f}\")\n",
    "plt.show()"
   ]
  },
  {
   "cell_type": "markdown",
   "metadata": {},
   "source": [
    "<p>\n",
    "    Note that alot of 911 calls are for special attention (SPCL ATT). Further looking also show that for SPCL ATT, almost all the calls were initiated by field officers instead by local residents.<br>\n",
    "    The 2nd highest calls category is traffic stops (TRF STOP). These calls are also all initiated by field officers.\n",
    "</p>"
   ]
  },
  {
   "cell_type": "markdown",
   "metadata": {},
   "source": [
    "<h3>4. Priority rating of calls</h3>"
   ]
  },
  {
   "cell_type": "code",
   "execution_count": 77,
   "metadata": {},
   "outputs": [
    {
     "data": {
      "text/plain": [
       "3    551030\n",
       "2    221804\n",
       "1     85674\n",
       "4     29810\n",
       "5     13790\n",
       "P       253\n",
       "        162\n",
       "Name: priority, dtype: int64"
      ]
     },
     "execution_count": 77,
     "metadata": {},
     "output_type": "execute_result"
    }
   ],
   "source": [
    "df[\"priority\"].value_counts()"
   ]
  },
  {
   "cell_type": "markdown",
   "metadata": {},
   "source": [
    "Note that the priority column is of object type, due to value \"P\" and \" \". "
   ]
  },
  {
   "cell_type": "code",
   "execution_count": 94,
   "metadata": {},
   "outputs": [
    {
     "data": {
      "image/png": "[encoded data removed]",
      "text/plain": [
       "<Figure size 432x288 with 1 Axes>"
      ]
     },
     "metadata": {
      "needs_background": "light"
     },
     "output_type": "display_data"
    }
   ],
   "source": [
    "# 911 call categories\n",
    "data = df[\"priority\"].value_counts(normalize=True)*100\n",
    "# Plot relative percent of call priority\n",
    "data = data[::-1] # ascending order\n",
    "plt.figure()\n",
    "plt.barh(y=data.index, width=data.values, height=0.75)\n",
    "plt.xlim((0,max(data.values)+15))\n",
    "plt.xlabel(\"Relative percentage\")\n",
    "plt.ylabel(\"911 calls priority\")\n",
    "# labels the bar with values\n",
    "for i, v in enumerate(data.index):\n",
    "    plt.text(data.values[i]+0.5, -0.25 + i, f\"{data.values[i]:.2f}\")\n",
    "plt.show()"
   ]
  },
  {
   "cell_type": "markdown",
   "metadata": {},
   "source": [
    "Most of the 911 calls have priority 3. Also P and \" \" are also non-existence."
   ]
  },
  {
   "cell_type": "code",
   "execution_count": 91,
   "metadata": {},
   "outputs": [
    {
     "data": {
      "image/png": "[encoded data removed]",
      "text/plain": [
       "<Figure size 432x288 with 1 Axes>"
      ]
     },
     "metadata": {
      "needs_background": "light"
     },
     "output_type": "display_data"
    }
   ],
   "source": [
    "# Average dispatch time for each priority\n",
    "# For calls NOT initiated by field offiers\n",
    "data = df[df[\"officerinitiated\"]==\"No\"]\n",
    "plt.figure(figsize=(6,4))\n",
    "sns.boxplot(data=data, x=\"priority\", y=\"dispatchtime\", order=sorted(data[\"priority\"].unique()))\n",
    "#plt.ylim((-10, 100))\n",
    "plt.yscale(\"log\")\n",
    "plt.ylabel(\"Avg. dispatch time (minutes)\")\n",
    "plt.show()"
   ]
  },
  {
   "cell_type": "markdown",
   "metadata": {},
   "source": [
    "Interestingly, the dispatchtime column has alot of outlier data points. Note the log scale of the y-axis. Dispite that, in general we see that calls with larger priority number also have longer dispatch time on average, except for priority=5 and priority=p. Due to the missing data dictionary, it is not known that priority \" \" and \"P\" represent. From this we can conclude that urgent calls are the ones with low priority numbers. Since the amount of calls with priority P and \" \" are so small <0.1%. These calls can also be removed from analysis."
   ]
  },
  {
   "cell_type": "markdown",
   "metadata": {},
   "source": [
    "<h3>5. Total response time</h3>"
   ]
  },
  {
   "cell_type": "code",
   "execution_count": 97,
   "metadata": {},
   "outputs": [
    {
     "data": {
      "image/png": "[encoded data removed]",
      "text/plain": [
       "<Figure size 360x216 with 1 Axes>"
      ]
     },
     "metadata": {
      "needs_background": "light"
     },
     "output_type": "display_data"
    }
   ],
   "source": [
    "# totalresponsetime of call\n",
    "data = df[df[\"officerinitiated\"]==\"No\"]\n",
    "plt.figure(figsize=(5,3))\n",
    "sns.distplot(data.loc[(data.totalresponsetime<60), \"totalresponsetime\"], bins=30, kde=False)\n",
    "plt.xlim((0,60))\n",
    "plt.title(\"NOT initiated by officers\")\n",
    "plt.ylabel(\"Frequency\")\n",
    "plt.xlabel(\"Total response time (mins)\")\n",
    "plt.show()"
   ]
  },
  {
   "cell_type": "markdown",
   "metadata": {},
   "source": [
    "On, average, total 911 calls response time is roughly 10 minutes, which is surprisingly long in my opinion."
   ]
  },
  {
   "cell_type": "markdown",
   "metadata": {},
   "source": [
    "<hr>\n",
    "<h1 style=\"text-align:center;\">Data Processing</h1>"
   ]
  },
  {
   "cell_type": "markdown",
   "metadata": {},
   "source": [
    "<hr style=\"border: 0.5px dashed;\">\n",
    "<h2>Detroit 911 calls in 2020</h2>\n",
    "<p> data source:\n",
    "https://data.detroitmi.gov/datasets/911-calls-for-service-last-30-days\n",
    "</p>"
   ]
  },
  {
   "cell_type": "code",
   "execution_count": 98,
   "metadata": {},
   "outputs": [
    {
     "name": "stdout",
     "output_type": "stream",
     "text": [
      "(902523, 27)\n",
      "Percent of null values\n",
      "--------------------------------------------------\n"
     ]
    },
    {
     "data": {
      "text/plain": [
       "X                     0.000000\n",
       "Y                     0.000000\n",
       "incident_id           0.000000\n",
       "agency                0.000000\n",
       "incident_address      2.384870\n",
       "zip_code              0.000000\n",
       "priority              0.000000\n",
       "callcode              0.000000\n",
       "calldescription       0.000000\n",
       "category              0.000000\n",
       "call_timestamp        0.000000\n",
       "precinct_sca          0.000000\n",
       "respondingunit       38.327887\n",
       "officerinitiated      0.000000\n",
       "intaketime            0.772723\n",
       "dispatchtime          6.786309\n",
       "traveltime            7.770882\n",
       "totalresponsetime     7.770882\n",
       "time_on_scene         8.182839\n",
       "totaltime             7.199041\n",
       "neighborhood          3.855747\n",
       "block_id              2.386089\n",
       "council_district      3.514259\n",
       "longitude             0.000000\n",
       "latitude              0.000000\n",
       "oid                  18.023363\n",
       "ObjectId             81.976637\n",
       "dtype: float64"
      ]
     },
     "execution_count": 98,
     "metadata": {},
     "output_type": "execute_result"
    }
   ],
   "source": [
    "# Check nulls values\n",
    "print(df.shape)\n",
    "print(\"Percent of null values\")\n",
    "print(\"-\"*50)\n",
    "df.isna().mean()*100"
   ]
  },
  {
   "cell_type": "markdown",
   "metadata": {},
   "source": [
    "<b>CLEANING NOTES:</b>\n",
    "<ul>\n",
    "    <li>Drop <code>incident_address</code>, <code>council_district</code>, and <code>block_id</code> since we are looking at neighborhood level</li>\n",
    "    <li>Drop <code>respondingunit</code> as not relevant for this study.</li>\n",
    "    <li>Remove calls outside of Detroit neighborhoods</li>\n",
    "    <li>Several columns string value have leading and trailing white spaces.</li>\n",
    "    <li><code>priority</code> has non-numerical value (p, and \" \"). Maybe should drop these.</li>\n",
    "    <li><code>call_timestamp</code> should be <code>datetime64</code>.</li>\n",
    "    <li>Remove calls there were hung-up, <code>category</code> = <code>HNGUP</code></li>\n",
    "</ul>\n",
    "<b>Category notes:</b>\n",
    "<ul>\n",
    "    <li><code>STRTSHFT</code>: Beginnin of shift change information. Initiated by officers</li>\n",
    "    <li><code>TRF STOP</code>: Calls about traffic stops, initiated by officers.</li>\n",
    "    <li><code>REMARKS</code>: Remarks by officers.</li>\n",
    "    <li><code>BUS BRD</code>: Bus boarding.</li>\n",
    "    <li><code>TOW</code>: About towing.</li>\n",
    "    <li><code>HNGUP</code>: Calls that were hung-up.</li>\n",
    "    <li><code>BITE1</code>: Animal bite</li>\n",
    "</ul> \n",
    "<p>\n",
    "    Not all categories were checked for relevant due to the large number of unique call categories (~ 192). The major categories were checked manually.\n",
    "</p>"
   ]
  },
  {
   "cell_type": "code",
   "execution_count": 3,
   "metadata": {},
   "outputs": [],
   "source": [
    "# calls data preprocessing class\n",
    "# DESCRIPTION OF THE PROCESSING STEPS ARE SHOWN BELLOW\n",
    "# Create data processing object for Detroit\n",
    "data_proc = utils.preprocessing.Preprocess(detroit)"
   ]
  },
  {
   "cell_type": "code",
   "execution_count": 27,
   "metadata": {},
   "outputs": [
    {
     "name": "stdout",
     "output_type": "stream",
     "text": [
      "data/Detroit_911_calls/911_Calls_2020_file0.csv\n",
      "Raw shape:  (739858, 26)\n",
      "Keep:  (467082, 14)\n",
      "--------------------------------------------------\n",
      "data/Detroit_911_calls/911_Calls_2020_file1.csv\n",
      "Raw shape:  (78422, 26)\n",
      "Keep:  (47446, 14)\n",
      "--------------------------------------------------\n",
      "data/Detroit_911_calls/911_Calls_2020_file2.csv\n",
      "Raw shape:  (83317, 26)\n",
      "Keep:  (49025, 14)\n",
      "--------------------------------------------------\n",
      "Write to:  data/Detroit_911_calls/911_Calls_2020_cleaned.csv\n"
     ]
    }
   ],
   "source": [
    "# 911 calls files to process\n",
    "files = [f\"data/raw/Detroit_911_calls/911_Calls_2020_file{i}.csv\" for i in range(3)]\n",
    "# Output file\n",
    "out_file = \"data/cleaned/911_Calls_2020_cleaned.csv\"\n",
    "# Process files\n",
    "data_proc.process_calls(files, out_file=out_file)"
   ]
  },
  {
   "cell_type": "code",
   "execution_count": 25,
   "metadata": {},
   "outputs": [],
   "source": [
    "# Dataframe\n",
    "calls = pd.read_csv(\"data/cleaned/911_Calls_2020_cleaned.csv\", thousands=\",\")\n",
    "calls[\"call_timestamp\"] = calls[\"call_timestamp\"].astype(\"datetime64\")\n",
    "calls.set_index(\"call_timestamp\", inplace=True)"
   ]
  },
  {
   "cell_type": "code",
   "execution_count": 26,
   "metadata": {},
   "outputs": [
    {
     "name": "stdout",
     "output_type": "stream",
     "text": [
      "<class 'pandas.core.frame.DataFrame'>\n",
      "DatetimeIndex: 523637 entries, 2020-01-01 00:01:40 to 2020-11-01 00:46:42\n",
      "Data columns (total 14 columns):\n",
      " #   Column             Non-Null Count   Dtype  \n",
      "---  ------             --------------   -----  \n",
      " 0   incident_id        523637 non-null  int64  \n",
      " 1   officerinitiated   523637 non-null  object \n",
      " 2   priority           523637 non-null  int64  \n",
      " 3   calldescription    523637 non-null  object \n",
      " 4   category           523637 non-null  object \n",
      " 5   intaketime         519042 non-null  float64\n",
      " 6   dispatchtime       490736 non-null  float64\n",
      " 7   traveltime         483089 non-null  float64\n",
      " 8   totalresponsetime  483089 non-null  float64\n",
      " 9   time_on_scene      481035 non-null  float64\n",
      " 10  totaltime          487704 non-null  float64\n",
      " 11  longitude          523637 non-null  float64\n",
      " 12  latitude           523637 non-null  float64\n",
      " 13  FID_nhood          523637 non-null  object \n",
      "dtypes: float64(8), int64(2), object(4)\n",
      "memory usage: 59.9+ MB\n"
     ]
    }
   ],
   "source": [
    "calls.info()"
   ]
  },
  {
   "cell_type": "markdown",
   "metadata": {},
   "source": [
    "<hr>\n",
    "<h1 style=\"text-align: center\">Feature engineering</h1>"
   ]
  },
  {
   "cell_type": "markdown",
   "metadata": {},
   "source": [
    "<h2>Attention level</h2>\n",
    "<p>A neighborhood attention level is defined as:<p>"
   ]
  },
  {
   "cell_type": "markdown",
   "metadata": {},
   "source": [
    "$$Attention~level = \\left(\\frac{\\#~of~calls}{avg.~priority + 1}\\right)+1$$"
   ]
  },
  {
   "cell_type": "code",
   "execution_count": 5,
   "metadata": {},
   "outputs": [],
   "source": [
    "#*******************************************************\n",
    "# IMPORT CUSTOM DATA OBJECT, ANALYSIS TOOLS AND FUNCTIONS\n",
    "#********************************************************\n",
    "from analysis import Analysis as ana\n",
    "from analysis import TSData"
   ]
  },
  {
   "cell_type": "code",
   "execution_count": 6,
   "metadata": {},
   "outputs": [],
   "source": [
    "# selected neighborhood\n",
    "#nhoods = \"19,Warrendale\"\n",
    "nhoods = \"all\"\n",
    "# generate attention level data with 3-hour increments\n",
    "att_level = ana.get_att_level(calls, nhoods, freq=\"3H\", data_proc=data_proc)\n",
    "# create a master data object\n",
    "att_level = TSData.TSData(att_level)"
   ]
  }
 ],
 "metadata": {
  "kernelspec": {
   "display_name": "patrol",
   "language": "python",
   "name": "patrol"
  },
  "language_info": {
   "codemirror_mode": {
    "name": "ipython",
    "version": 3
   },
   "file_extension": ".py",
   "mimetype": "text/x-python",
   "name": "python",
   "nbconvert_exporter": "python",
   "pygments_lexer": "ipython3",
   "version": "3.7.9"
  }
 },
 "nbformat": 4,
 "nbformat_minor": 4
}
